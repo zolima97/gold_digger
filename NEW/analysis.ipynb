{
 "cells": [
  {
   "cell_type": "code",
   "execution_count": 1,
   "id": "644e7bd4-71c0-4a7e-8129-44ac3a3d2780",
   "metadata": {},
   "outputs": [],
   "source": [
    "import pandas as pd\n",
    "import numpy as np\n",
    "import sys \n",
    "from tkinter import * \n",
    "import tkinter as tk\n",
    "from tkinter import ttk"
   ]
  },
  {
   "cell_type": "code",
   "execution_count": 2,
   "id": "cb48f74d-52d7-4e3c-b7cd-f7ab8d92c860",
   "metadata": {},
   "outputs": [],
   "source": [
    "def percentage_calculation(stock, start_day, last_day, ben):\n",
    "    root = Tk()\n",
    "    print(\"started pct calculation\")\n",
    "    stock = pd.read_csv('INPUT/stocks_downloaded.csv')\n",
    "    df_pct = pd.DataFrame(columns=['ticker', 'pct'])\n",
    "    for ticker in stock[\"ticker\"].unique():\n",
    "        stock_cut = stock[stock[\"ticker\"]== ticker]\n",
    "        if len(stock_cut)> 1:\n",
    "                pct = round((float(stock_cut[stock_cut.Date < last_day].tail(1)[\"Close\"])\n",
    "                                /\n",
    "                            float(stock_cut[stock_cut.Date > start_day ].head(1)[\"Close\"])\n",
    "                            -1)*100, 2)\n",
    "\n",
    "                d = {'ticker': [ticker], 'pct': [pct]}\n",
    "                ticker_pct = pd.DataFrame(data=d)\n",
    "                df_pct = pd.concat([df_pct, ticker_pct])\n",
    "                df_pct = df_pct.sort_values([\"pct\"], ascending=[False]).reset_index(drop=True)\n",
    "            \n",
    "        else:\n",
    "                continue   \n",
    "\n",
    "    print(\"exporting analysis\")\n",
    "    df_pct.to_csv('OUTPUT/analysis_pct.csv')\n",
    "    print(\"analysis is ready!\")\n",
    "    \n",
    "    root.geometry('580x250')\n",
    "    txt = Text(root) \n",
    "    txt.pack() \n",
    "    class PrintToTXT(object): \n",
    "     def write(self, s): \n",
    "         txt.insert(END, s)\n",
    "    sys.stdout = PrintToTXT() \n",
    "    print ('Benchmark results is:\\n') \n",
    "    print (df_pct[df_pct[\"ticker\"] == ben]) \n",
    "    print ('\\n\\n') \n",
    "    print ('Table with results of analysis, in descending order\\n\\n') \n",
    "    print (df_pct.head(30))\n",
    "    root.mainloop()\n",
    "    \n",
    "    return df_pct   "
   ]
  },
  {
   "cell_type": "code",
   "execution_count": null,
   "id": "dff930e2-ec59-42be-9c4b-803fbc17602d",
   "metadata": {},
   "outputs": [],
   "source": []
  },
  {
   "cell_type": "code",
   "execution_count": null,
   "id": "b6ed5632-68c8-44ae-a5d9-350943e08af1",
   "metadata": {},
   "outputs": [],
   "source": []
  }
 ],
 "metadata": {
  "kernelspec": {
   "display_name": "Python 3 (ipykernel)",
   "language": "python",
   "name": "python3"
  },
  "language_info": {
   "codemirror_mode": {
    "name": "ipython",
    "version": 3
   },
   "file_extension": ".py",
   "mimetype": "text/x-python",
   "name": "python",
   "nbconvert_exporter": "python",
   "pygments_lexer": "ipython3",
   "version": "3.11.5"
  },
  "vscode": {
   "interpreter": {
    "hash": "b0fb3b4d198db20537624ce2c3b92e457604832839060357f14bea53dad748a5"
   }
  }
 },
 "nbformat": 4,
 "nbformat_minor": 5
}
