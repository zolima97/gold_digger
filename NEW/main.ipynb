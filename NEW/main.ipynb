{
 "cells": [
  {
   "cell_type": "code",
   "execution_count": null,
   "id": "b31adb05-d399-44c7-9e7f-9cb2a1f3f410",
   "metadata": {},
   "outputs": [
    {
     "name": "stdout",
     "output_type": "stream",
     "text": [
      "I have started importing the worldwide tickers\n",
      "I have finished importing the worldwide tickers\n",
      "filtering stocks based on country\n",
      "I am going to download: 521 stocks.\n",
      "\n",
      "For the time range: 2022-01-01   2023-09-10\n",
      "\n",
      "Benchmark is: World Index\n",
      "\n",
      "Country selected: Italy\n"
     ]
    },
    {
     "name": "stderr",
     "output_type": "stream",
     "text": [
      "\n",
      "1 Failed download:\n",
      "['AST.MI']: Exception('%ticker%: No timezone found, symbol may be delisted')\n",
      "/Users/matteozoli/Desktop/VESPER_script/GOLD DIGGER/NEW/downloader.ipynb:81: FutureWarning: The behavior of array concatenation with empty entries is deprecated. In a future version, this will no longer exclude empty items when determining the result dtype. To retain the old behavior, exclude the empty entries before the concat operation.\n",
      "  \"    print(\\\"\\\\nFor the time range:\\\", start_day, \\\" \\\", last_day)\\n\",\n",
      "\n",
      "1 Failed download:\n",
      "['AE.MI']: Exception('%ticker%: No price data found, symbol may be delisted (1d 2022-01-01 -> 2023-09-10)')\n",
      "/Users/matteozoli/Desktop/VESPER_script/GOLD DIGGER/NEW/downloader.ipynb:81: FutureWarning: The behavior of array concatenation with empty entries is deprecated. In a future version, this will no longer exclude empty items when determining the result dtype. To retain the old behavior, exclude the empty entries before the concat operation.\n",
      "  \"    print(\\\"\\\\nFor the time range:\\\", start_day, \\\" \\\", last_day)\\n\",\n",
      "\n",
      "1 Failed download:\n",
      "['UBI.MI']: Exception('%ticker%: No timezone found, symbol may be delisted')\n"
     ]
    },
    {
     "name": "stdout",
     "output_type": "stream",
     "text": [
      "I am downloading: BMPS.MI .This is number: 5 out of: 521 . \n",
      "So far I have downloaded properly: 3 stocks\n"
     ]
    },
    {
     "name": "stderr",
     "output_type": "stream",
     "text": [
      "/Users/matteozoli/Desktop/VESPER_script/GOLD DIGGER/NEW/downloader.ipynb:81: FutureWarning: The behavior of array concatenation with empty entries is deprecated. In a future version, this will no longer exclude empty items when determining the result dtype. To retain the old behavior, exclude the empty entries before the concat operation.\n",
      "  \"    print(\\\"\\\\nFor the time range:\\\", start_day, \\\" \\\", last_day)\\n\",\n",
      "\n",
      "1 Failed download:\n",
      "['PMI.MI']: Exception('%ticker%: No price data found, symbol may be delisted (1d 2022-01-01 -> 2023-09-10)')\n",
      "/Users/matteozoli/Desktop/VESPER_script/GOLD DIGGER/NEW/downloader.ipynb:81: FutureWarning: The behavior of array concatenation with empty entries is deprecated. In a future version, this will no longer exclude empty items when determining the result dtype. To retain the old behavior, exclude the empty entries before the concat operation.\n",
      "  \"    print(\\\"\\\\nFor the time range:\\\", start_day, \\\" \\\", last_day)\\n\",\n",
      "\n",
      "1 Failed download:\n",
      "['DMN.MI']: Exception('%ticker%: No timezone found, symbol may be delisted')\n"
     ]
    },
    {
     "name": "stdout",
     "output_type": "stream",
     "text": [
      "I am downloading: DNN.MI .This is number: 10 out of: 521 . \n",
      "So far I have downloaded properly: 6 stocks\n"
     ]
    },
    {
     "name": "stderr",
     "output_type": "stream",
     "text": [
      "/Users/matteozoli/Desktop/VESPER_script/GOLD DIGGER/NEW/downloader.ipynb:81: FutureWarning: The behavior of array concatenation with empty entries is deprecated. In a future version, this will no longer exclude empty items when determining the result dtype. To retain the old behavior, exclude the empty entries before the concat operation.\n",
      "  \"    print(\\\"\\\\nFor the time range:\\\", start_day, \\\" \\\", last_day)\\n\",\n",
      "\n",
      "1 Failed download:\n",
      "['SPO.MI']: Exception('%ticker%: No price data found, symbol may be delisted (1d 2022-01-01 -> 2023-09-10)')\n",
      "/Users/matteozoli/Desktop/VESPER_script/GOLD DIGGER/NEW/downloader.ipynb:81: FutureWarning: The behavior of array concatenation with empty entries is deprecated. In a future version, this will no longer exclude empty items when determining the result dtype. To retain the old behavior, exclude the empty entries before the concat operation.\n",
      "  \"    print(\\\"\\\\nFor the time range:\\\", start_day, \\\" \\\", last_day)\\n\",\n"
     ]
    },
    {
     "name": "stdout",
     "output_type": "stream",
     "text": [
      "I am downloading: SAP.MI .This is number: 15 out of: 521 . \n",
      "So far I have downloaded properly: 9 stocks\n"
     ]
    },
    {
     "name": "stderr",
     "output_type": "stream",
     "text": [
      "\n",
      "1 Failed download:\n",
      "['BIM.MI']: Exception('%ticker%: No timezone found, symbol may be delisted')\n",
      "/Users/matteozoli/Desktop/VESPER_script/GOLD DIGGER/NEW/downloader.ipynb:81: FutureWarning: The behavior of array concatenation with empty entries is deprecated. In a future version, this will no longer exclude empty items when determining the result dtype. To retain the old behavior, exclude the empty entries before the concat operation.\n",
      "  \"    print(\\\"\\\\nFor the time range:\\\", start_day, \\\" \\\", last_day)\\n\",\n"
     ]
    },
    {
     "name": "stdout",
     "output_type": "stream",
     "text": [
      "I am downloading: BIM.MI .This is number: 20 out of: 521 . \n",
      "So far I have downloaded properly: 13 stocks\n"
     ]
    },
    {
     "name": "stderr",
     "output_type": "stream",
     "text": [
      "\n",
      "1 Failed download:\n",
      "['TAS.MI']: Exception('%ticker%: No timezone found, symbol may be delisted')\n",
      "/Users/matteozoli/Desktop/VESPER_script/GOLD DIGGER/NEW/downloader.ipynb:81: FutureWarning: The behavior of array concatenation with empty entries is deprecated. In a future version, this will no longer exclude empty items when determining the result dtype. To retain the old behavior, exclude the empty entries before the concat operation.\n",
      "  \"    print(\\\"\\\\nFor the time range:\\\", start_day, \\\" \\\", last_day)\\n\",\n",
      "\n",
      "1 Failed download:\n",
      "['PEL.MI']: Exception('%ticker%: No price data found, symbol may be delisted (1d 2022-01-01 -> 2023-09-10)')\n",
      "/Users/matteozoli/Desktop/VESPER_script/GOLD DIGGER/NEW/downloader.ipynb:81: FutureWarning: The behavior of array concatenation with empty entries is deprecated. In a future version, this will no longer exclude empty items when determining the result dtype. To retain the old behavior, exclude the empty entries before the concat operation.\n",
      "  \"    print(\\\"\\\\nFor the time range:\\\", start_day, \\\" \\\", last_day)\\n\",\n"
     ]
    },
    {
     "name": "stdout",
     "output_type": "stream",
     "text": [
      "I am downloading: MUV2.MI .This is number: 25 out of: 521 . \n",
      "So far I have downloaded properly: 16 stocks\n"
     ]
    },
    {
     "name": "stderr",
     "output_type": "stream",
     "text": [
      "\n",
      "1 Failed download:\n",
      "['LD.MI']: Exception('%ticker%: No timezone found, symbol may be delisted')\n",
      "/Users/matteozoli/Desktop/VESPER_script/GOLD DIGGER/NEW/downloader.ipynb:81: FutureWarning: The behavior of array concatenation with empty entries is deprecated. In a future version, this will no longer exclude empty items when determining the result dtype. To retain the old behavior, exclude the empty entries before the concat operation.\n",
      "  \"    print(\\\"\\\\nFor the time range:\\\", start_day, \\\" \\\", last_day)\\n\",\n",
      "\n",
      "1 Failed download:\n",
      "['EXO.MI']: Exception('%ticker%: No timezone found, symbol may be delisted')\n",
      "/Users/matteozoli/Desktop/VESPER_script/GOLD DIGGER/NEW/downloader.ipynb:81: FutureWarning: The behavior of array concatenation with empty entries is deprecated. In a future version, this will no longer exclude empty items when determining the result dtype. To retain the old behavior, exclude the empty entries before the concat operation.\n",
      "  \"    print(\\\"\\\\nFor the time range:\\\", start_day, \\\" \\\", last_day)\\n\",\n"
     ]
    },
    {
     "name": "stdout",
     "output_type": "stream",
     "text": [
      "I am downloading: EXO.MI .This is number: 30 out of: 521 . \n",
      "So far I have downloaded properly: 19 stocks\n",
      "I am downloading: FDE.MI .This is number: 35 out of: 521 . \n",
      "So far I have downloaded properly: 24 stocks\n"
     ]
    },
    {
     "name": "stderr",
     "output_type": "stream",
     "text": [
      "\n",
      "1 Failed download:\n",
      "['EGPW.MI']: Exception('%ticker%: No price data found, symbol may be delisted (1d 2022-01-01 -> 2023-09-10)')\n",
      "/Users/matteozoli/Desktop/VESPER_script/GOLD DIGGER/NEW/downloader.ipynb:81: FutureWarning: The behavior of array concatenation with empty entries is deprecated. In a future version, this will no longer exclude empty items when determining the result dtype. To retain the old behavior, exclude the empty entries before the concat operation.\n",
      "  \"    print(\\\"\\\\nFor the time range:\\\", start_day, \\\" \\\", last_day)\\n\",\n"
     ]
    },
    {
     "name": "stdout",
     "output_type": "stream",
     "text": [
      "I am downloading: VITA.MI .This is number: 40 out of: 521 . \n",
      "So far I have downloaded properly: 28 stocks\n"
     ]
    },
    {
     "name": "stderr",
     "output_type": "stream",
     "text": [
      "\n",
      "1 Failed download:\n",
      "['FNC.MI']: Exception('%ticker%: No price data found, symbol may be delisted (1d 2022-01-01 -> 2023-09-10)')\n",
      "/Users/matteozoli/Desktop/VESPER_script/GOLD DIGGER/NEW/downloader.ipynb:81: FutureWarning: The behavior of array concatenation with empty entries is deprecated. In a future version, this will no longer exclude empty items when determining the result dtype. To retain the old behavior, exclude the empty entries before the concat operation.\n",
      "  \"    print(\\\"\\\\nFor the time range:\\\", start_day, \\\" \\\", last_day)\\n\",\n",
      "\n",
      "1 Failed download:\n",
      "['MTF.MI']: Exception('%ticker%: No timezone found, symbol may be delisted')\n",
      "/Users/matteozoli/Desktop/VESPER_script/GOLD DIGGER/NEW/downloader.ipynb:81: FutureWarning: The behavior of array concatenation with empty entries is deprecated. In a future version, this will no longer exclude empty items when determining the result dtype. To retain the old behavior, exclude the empty entries before the concat operation.\n",
      "  \"    print(\\\"\\\\nFor the time range:\\\", start_day, \\\" \\\", last_day)\\n\",\n"
     ]
    },
    {
     "name": "stdout",
     "output_type": "stream",
     "text": [
      "I am downloading: JUVE.MI .This is number: 45 out of: 521 . \n",
      "So far I have downloaded properly: 31 stocks\n"
     ]
    },
    {
     "name": "stderr",
     "output_type": "stream",
     "text": [
      "\n",
      "1 Failed download:\n",
      "['ALU.MI']: Exception('%ticker%: No price data found, symbol may be delisted (1d 2022-01-01 -> 2023-09-10)')\n",
      "/Users/matteozoli/Desktop/VESPER_script/GOLD DIGGER/NEW/downloader.ipynb:81: FutureWarning: The behavior of array concatenation with empty entries is deprecated. In a future version, this will no longer exclude empty items when determining the result dtype. To retain the old behavior, exclude the empty entries before the concat operation.\n",
      "  \"    print(\\\"\\\\nFor the time range:\\\", start_day, \\\" \\\", last_day)\\n\",\n",
      "\n",
      "1 Failed download:\n",
      "['LUX.MI']: Exception('%ticker%: No timezone found, symbol may be delisted')\n",
      "/Users/matteozoli/Desktop/VESPER_script/GOLD DIGGER/NEW/downloader.ipynb:81: FutureWarning: The behavior of array concatenation with empty entries is deprecated. In a future version, this will no longer exclude empty items when determining the result dtype. To retain the old behavior, exclude the empty entries before the concat operation.\n",
      "  \"    print(\\\"\\\\nFor the time range:\\\", start_day, \\\" \\\", last_day)\\n\",\n"
     ]
    },
    {
     "name": "stdout",
     "output_type": "stream",
     "text": [
      "I am downloading: GSP.MI .This is number: 50 out of: 521 . \n",
      "So far I have downloaded properly: 34 stocks\n",
      "I am downloading: JNPR-U.TI .This is number: 55 out of: 521 . \n",
      "So far I have downloaded properly: 39 stocks\n"
     ]
    },
    {
     "name": "stderr",
     "output_type": "stream",
     "text": [
      "\n",
      "1 Failed download:\n",
      "['MSK.MI']: Exception('%ticker%: No price data found, symbol may be delisted (1d 2022-01-01 -> 2023-09-10)')\n",
      "/Users/matteozoli/Desktop/VESPER_script/GOLD DIGGER/NEW/downloader.ipynb:81: FutureWarning: The behavior of array concatenation with empty entries is deprecated. In a future version, this will no longer exclude empty items when determining the result dtype. To retain the old behavior, exclude the empty entries before the concat operation.\n",
      "  \"    print(\\\"\\\\nFor the time range:\\\", start_day, \\\" \\\", last_day)\\n\",\n",
      "\n",
      "1 Failed download:\n",
      "['MT.MI']: Exception('%ticker%: No timezone found, symbol may be delisted')\n",
      "/Users/matteozoli/Desktop/VESPER_script/GOLD DIGGER/NEW/downloader.ipynb:81: FutureWarning: The behavior of array concatenation with empty entries is deprecated. In a future version, this will no longer exclude empty items when determining the result dtype. To retain the old behavior, exclude the empty entries before the concat operation.\n",
      "  \"    print(\\\"\\\\nFor the time range:\\\", start_day, \\\" \\\", last_day)\\n\",\n"
     ]
    },
    {
     "name": "stdout",
     "output_type": "stream",
     "text": [
      "I am downloading: MT.MI .This is number: 60 out of: 521 . \n",
      "So far I have downloaded properly: 42 stocks\n"
     ]
    },
    {
     "name": "stderr",
     "output_type": "stream",
     "text": [
      "\n",
      "1 Failed download:\n",
      "['M7IT.MI']: Exception('%ticker%: No price data found, symbol may be delisted (1d 2022-01-01 -> 2023-09-10)')\n",
      "/Users/matteozoli/Desktop/VESPER_script/GOLD DIGGER/NEW/downloader.ipynb:81: FutureWarning: The behavior of array concatenation with empty entries is deprecated. In a future version, this will no longer exclude empty items when determining the result dtype. To retain the old behavior, exclude the empty entries before the concat operation.\n",
      "  \"    print(\\\"\\\\nFor the time range:\\\", start_day, \\\" \\\", last_day)\\n\",\n",
      "\n",
      "1 Failed download:\n",
      "['NICE.MI']: Exception('%ticker%: No timezone found, symbol may be delisted')\n"
     ]
    },
    {
     "name": "stdout",
     "output_type": "stream",
     "text": [
      "I am downloading: CNHI.MI .This is number: 65 out of: 521 . \n",
      "So far I have downloaded properly: 46 stocks\n"
     ]
    },
    {
     "name": "stderr",
     "output_type": "stream",
     "text": [
      "/Users/matteozoli/Desktop/VESPER_script/GOLD DIGGER/NEW/downloader.ipynb:81: FutureWarning: The behavior of array concatenation with empty entries is deprecated. In a future version, this will no longer exclude empty items when determining the result dtype. To retain the old behavior, exclude the empty entries before the concat operation.\n",
      "  \"    print(\\\"\\\\nFor the time range:\\\", start_day, \\\" \\\", last_day)\\n\",\n",
      "\n",
      "1 Failed download:\n",
      "['STM.MI']: Exception('%ticker%: No timezone found, symbol may be delisted')\n",
      "/Users/matteozoli/Desktop/VESPER_script/GOLD DIGGER/NEW/downloader.ipynb:81: FutureWarning: The behavior of array concatenation with empty entries is deprecated. In a future version, this will no longer exclude empty items when determining the result dtype. To retain the old behavior, exclude the empty entries before the concat operation.\n",
      "  \"    print(\\\"\\\\nFor the time range:\\\", start_day, \\\" \\\", last_day)\\n\",\n",
      "\n",
      "1 Failed download:\n",
      "['NET.MI']: Exception('%ticker%: No timezone found, symbol may be delisted')\n",
      "/Users/matteozoli/Desktop/VESPER_script/GOLD DIGGER/NEW/downloader.ipynb:81: FutureWarning: The behavior of array concatenation with empty entries is deprecated. In a future version, this will no longer exclude empty items when determining the result dtype. To retain the old behavior, exclude the empty entries before the concat operation.\n",
      "  \"    print(\\\"\\\\nFor the time range:\\\", start_day, \\\" \\\", last_day)\\n\",\n",
      "\n",
      "1 Failed download:\n",
      "['NESN-U.TI']: Exception('%ticker%: No timezone found, symbol may be delisted')\n",
      "/Users/matteozoli/Desktop/VESPER_script/GOLD DIGGER/NEW/downloader.ipynb:81: FutureWarning: The behavior of array concatenation with empty entries is deprecated. In a future version, this will no longer exclude empty items when determining the result dtype. To retain the old behavior, exclude the empty entries before the concat operation.\n",
      "  \"    print(\\\"\\\\nFor the time range:\\\", start_day, \\\" \\\", last_day)\\n\",\n"
     ]
    },
    {
     "name": "stdout",
     "output_type": "stream",
     "text": [
      "I am downloading: NESN-U.TI .This is number: 70 out of: 521 . \n",
      "So far I have downloaded properly: 47 stocks\n",
      "I am downloading: ORA.MI .This is number: 75 out of: 521 . \n",
      "So far I have downloaded properly: 52 stocks\n"
     ]
    },
    {
     "name": "stderr",
     "output_type": "stream",
     "text": [
      "\n",
      "1 Failed download:\n",
      "['ON.MI']: Exception('%ticker%: No timezone found, symbol may be delisted')\n",
      "/Users/matteozoli/Desktop/VESPER_script/GOLD DIGGER/NEW/downloader.ipynb:81: FutureWarning: The behavior of array concatenation with empty entries is deprecated. In a future version, this will no longer exclude empty items when determining the result dtype. To retain the old behavior, exclude the empty entries before the concat operation.\n",
      "  \"    print(\\\"\\\\nFor the time range:\\\", start_day, \\\" \\\", last_day)\\n\",\n",
      "\n",
      "1 Failed download:\n",
      "['OSR-U.TI']: Exception('%ticker%: No timezone found, symbol may be delisted')\n",
      "/Users/matteozoli/Desktop/VESPER_script/GOLD DIGGER/NEW/downloader.ipynb:81: FutureWarning: The behavior of array concatenation with empty entries is deprecated. In a future version, this will no longer exclude empty items when determining the result dtype. To retain the old behavior, exclude the empty entries before the concat operation.\n",
      "  \"    print(\\\"\\\\nFor the time range:\\\", start_day, \\\" \\\", last_day)\\n\",\n"
     ]
    },
    {
     "name": "stdout",
     "output_type": "stream",
     "text": [
      "I am downloading: PRY.MI .This is number: 80 out of: 521 . \n",
      "So far I have downloaded properly: 55 stocks\n"
     ]
    },
    {
     "name": "stderr",
     "output_type": "stream",
     "text": [
      "\n",
      "1 Failed download:\n",
      "['PLT.MI']: Exception('%ticker%: No timezone found, symbol may be delisted')\n",
      "/Users/matteozoli/Desktop/VESPER_script/GOLD DIGGER/NEW/downloader.ipynb:81: FutureWarning: The behavior of array concatenation with empty entries is deprecated. In a future version, this will no longer exclude empty items when determining the result dtype. To retain the old behavior, exclude the empty entries before the concat operation.\n",
      "  \"    print(\\\"\\\\nFor the time range:\\\", start_day, \\\" \\\", last_day)\\n\",\n",
      "\n",
      "1 Failed download:\n",
      "['PC.MI']: Exception('%ticker%: No price data found, symbol may be delisted (1d 2022-01-01 -> 2023-09-10)')\n",
      "/Users/matteozoli/Desktop/VESPER_script/GOLD DIGGER/NEW/downloader.ipynb:81: FutureWarning: The behavior of array concatenation with empty entries is deprecated. In a future version, this will no longer exclude empty items when determining the result dtype. To retain the old behavior, exclude the empty entries before the concat operation.\n",
      "  \"    print(\\\"\\\\nFor the time range:\\\", start_day, \\\" \\\", last_day)\\n\",\n"
     ]
    },
    {
     "name": "stdout",
     "output_type": "stream",
     "text": [
      "I am downloading: REY.MI .This is number: 85 out of: 521 . \n",
      "So far I have downloaded properly: 58 stocks\n"
     ]
    },
    {
     "name": "stderr",
     "output_type": "stream",
     "text": [
      "\n",
      "1 Failed download:\n",
      "['BSRP.MI']: Exception('%ticker%: No timezone found, symbol may be delisted')\n",
      "/Users/matteozoli/Desktop/VESPER_script/GOLD DIGGER/NEW/downloader.ipynb:81: FutureWarning: The behavior of array concatenation with empty entries is deprecated. In a future version, this will no longer exclude empty items when determining the result dtype. To retain the old behavior, exclude the empty entries before the concat operation.\n",
      "  \"    print(\\\"\\\\nFor the time range:\\\", start_day, \\\" \\\", last_day)\\n\",\n",
      "\n",
      "1 Failed download:\n",
      "['STEFR.MI']: Exception('%ticker%: No price data found, symbol may be delisted (1d 2022-01-01 -> 2023-09-10)')\n",
      "/Users/matteozoli/Desktop/VESPER_script/GOLD DIGGER/NEW/downloader.ipynb:81: FutureWarning: The behavior of array concatenation with empty entries is deprecated. In a future version, this will no longer exclude empty items when determining the result dtype. To retain the old behavior, exclude the empty entries before the concat operation.\n",
      "  \"    print(\\\"\\\\nFor the time range:\\\", start_day, \\\" \\\", last_day)\\n\",\n"
     ]
    },
    {
     "name": "stdout",
     "output_type": "stream",
     "text": [
      "I am downloading: STEFR.MI .This is number: 90 out of: 521 . \n",
      "So far I have downloaded properly: 61 stocks\n"
     ]
    },
    {
     "name": "stderr",
     "output_type": "stream",
     "text": [
      "\n",
      "1 Failed download:\n",
      "['BZUR.MI']: Exception('%ticker%: No timezone found, symbol may be delisted')\n",
      "/Users/matteozoli/Desktop/VESPER_script/GOLD DIGGER/NEW/downloader.ipynb:81: FutureWarning: The behavior of array concatenation with empty entries is deprecated. In a future version, this will no longer exclude empty items when determining the result dtype. To retain the old behavior, exclude the empty entries before the concat operation.\n",
      "  \"    print(\\\"\\\\nFor the time range:\\\", start_day, \\\" \\\", last_day)\\n\",\n",
      "\n",
      "1 Failed download:\n",
      "['USRA.MI']: Exception('%ticker%: No price data found, symbol may be delisted (1d 2022-01-01 -> 2023-09-10)')\n",
      "/Users/matteozoli/Desktop/VESPER_script/GOLD DIGGER/NEW/downloader.ipynb:81: FutureWarning: The behavior of array concatenation with empty entries is deprecated. In a future version, this will no longer exclude empty items when determining the result dtype. To retain the old behavior, exclude the empty entries before the concat operation.\n",
      "  \"    print(\\\"\\\\nFor the time range:\\\", start_day, \\\" \\\", last_day)\\n\",\n"
     ]
    },
    {
     "name": "stdout",
     "output_type": "stream",
     "text": [
      "I am downloading: BZUR.MI .This is number: 95 out of: 521 . \n",
      "So far I have downloaded properly: 65 stocks\n"
     ]
    },
    {
     "name": "stderr",
     "output_type": "stream",
     "text": [
      "\n",
      "1 Failed download:\n",
      "['UCGR.MI']: Exception('%ticker%: No price data found, symbol may be delisted (1d 2022-01-01 -> 2023-09-10)')\n",
      "/Users/matteozoli/Desktop/VESPER_script/GOLD DIGGER/NEW/downloader.ipynb:81: FutureWarning: The behavior of array concatenation with empty entries is deprecated. In a future version, this will no longer exclude empty items when determining the result dtype. To retain the old behavior, exclude the empty entries before the concat operation.\n",
      "  \"    print(\\\"\\\\nFor the time range:\\\", start_day, \\\" \\\", last_day)\\n\",\n",
      "\n",
      "1 Failed download:\n",
      "['TWTR-U.TI']: Exception('%ticker%: No timezone found, symbol may be delisted')\n",
      "/Users/matteozoli/Desktop/VESPER_script/GOLD DIGGER/NEW/downloader.ipynb:81: FutureWarning: The behavior of array concatenation with empty entries is deprecated. In a future version, this will no longer exclude empty items when determining the result dtype. To retain the old behavior, exclude the empty entries before the concat operation.\n",
      "  \"    print(\\\"\\\\nFor the time range:\\\", start_day, \\\" \\\", last_day)\\n\",\n",
      "\n",
      "1 Failed download:\n",
      "['CTIC.MI']: Exception('%ticker%: No price data found, symbol may be delisted (1d 2022-01-01 -> 2023-09-10)')\n"
     ]
    },
    {
     "name": "stdout",
     "output_type": "stream",
     "text": [
      "I am downloading: MD-U.TI .This is number: 100 out of: 521 . \n",
      "So far I have downloaded properly: 67 stocks\n"
     ]
    },
    {
     "name": "stderr",
     "output_type": "stream",
     "text": [
      "/Users/matteozoli/Desktop/VESPER_script/GOLD DIGGER/NEW/downloader.ipynb:81: FutureWarning: The behavior of array concatenation with empty entries is deprecated. In a future version, this will no longer exclude empty items when determining the result dtype. To retain the old behavior, exclude the empty entries before the concat operation.\n",
      "  \"    print(\\\"\\\\nFor the time range:\\\", start_day, \\\" \\\", last_day)\\n\",\n"
     ]
    },
    {
     "name": "stdout",
     "output_type": "stream",
     "text": [
      "I am downloading: ZV.MI .This is number: 105 out of: 521 . \n",
      "So far I have downloaded properly: 71 stocks\n"
     ]
    },
    {
     "name": "stderr",
     "output_type": "stream",
     "text": [
      "\n",
      "1 Failed download:\n",
      "['VAS.MI']: Exception('%ticker%: No price data found, symbol may be delisted (1d 2022-01-01 -> 2023-09-10)')\n",
      "/Users/matteozoli/Desktop/VESPER_script/GOLD DIGGER/NEW/downloader.ipynb:81: FutureWarning: The behavior of array concatenation with empty entries is deprecated. In a future version, this will no longer exclude empty items when determining the result dtype. To retain the old behavior, exclude the empty entries before the concat operation.\n",
      "  \"    print(\\\"\\\\nFor the time range:\\\", start_day, \\\" \\\", last_day)\\n\",\n",
      "\n",
      "1 Failed download:\n",
      "['TV.MI']: Exception('%ticker%: No price data found, symbol may be delisted (1d 2022-01-01 -> 2023-09-10)')\n",
      "/Users/matteozoli/Desktop/VESPER_script/GOLD DIGGER/NEW/downloader.ipynb:81: FutureWarning: The behavior of array concatenation with empty entries is deprecated. In a future version, this will no longer exclude empty items when determining the result dtype. To retain the old behavior, exclude the empty entries before the concat operation.\n",
      "  \"    print(\\\"\\\\nFor the time range:\\\", start_day, \\\" \\\", last_day)\\n\",\n",
      "\n",
      "1 Failed download:\n",
      "['YVI.MI']: Exception('%ticker%: No price data found, symbol may be delisted (1d 2022-01-01 -> 2023-09-10)')\n",
      "/Users/matteozoli/Desktop/VESPER_script/GOLD DIGGER/NEW/downloader.ipynb:81: FutureWarning: The behavior of array concatenation with empty entries is deprecated. In a future version, this will no longer exclude empty items when determining the result dtype. To retain the old behavior, exclude the empty entries before the concat operation.\n",
      "  \"    print(\\\"\\\\nFor the time range:\\\", start_day, \\\" \\\", last_day)\\n\",\n"
     ]
    },
    {
     "name": "stdout",
     "output_type": "stream",
     "text": [
      "I am downloading: YVI.MI .This is number: 110 out of: 521 . \n",
      "So far I have downloaded properly: 73 stocks\n",
      "I am downloading: INW.MI .This is number: 115 out of: 521 . \n",
      "So far I have downloaded properly: 78 stocks\n"
     ]
    },
    {
     "name": "stderr",
     "output_type": "stream",
     "text": [
      "\n",
      "1 Failed download:\n",
      "['AOL-U.TI']: Exception('%ticker%: No timezone found, symbol may be delisted')\n",
      "/Users/matteozoli/Desktop/VESPER_script/GOLD DIGGER/NEW/downloader.ipynb:81: FutureWarning: The behavior of array concatenation with empty entries is deprecated. In a future version, this will no longer exclude empty items when determining the result dtype. To retain the old behavior, exclude the empty entries before the concat operation.\n",
      "  \"    print(\\\"\\\\nFor the time range:\\\", start_day, \\\" \\\", last_day)\\n\",\n",
      "\n",
      "1 Failed download:\n",
      "['XLNX-U.TI']: Exception('%ticker%: No timezone found, symbol may be delisted')\n"
     ]
    },
    {
     "name": "stdout",
     "output_type": "stream",
     "text": [
      "I am downloading: XOM-U.TI .This is number: 120 out of: 521 . \n",
      "So far I have downloaded properly: 82 stocks\n"
     ]
    },
    {
     "name": "stderr",
     "output_type": "stream",
     "text": [
      "/Users/matteozoli/Desktop/VESPER_script/GOLD DIGGER/NEW/downloader.ipynb:81: FutureWarning: The behavior of array concatenation with empty entries is deprecated. In a future version, this will no longer exclude empty items when determining the result dtype. To retain the old behavior, exclude the empty entries before the concat operation.\n",
      "  \"    print(\\\"\\\\nFor the time range:\\\", start_day, \\\" \\\", last_day)\\n\",\n",
      "\n",
      "1 Failed download:\n",
      "['YNAP.MI']: Exception('%ticker%: No price data found, symbol may be delisted (1d 2022-01-01 -> 2023-09-10)')\n",
      "/Users/matteozoli/Desktop/VESPER_script/GOLD DIGGER/NEW/downloader.ipynb:81: FutureWarning: The behavior of array concatenation with empty entries is deprecated. In a future version, this will no longer exclude empty items when determining the result dtype. To retain the old behavior, exclude the empty entries before the concat operation.\n",
      "  \"    print(\\\"\\\\nFor the time range:\\\", start_day, \\\" \\\", last_day)\\n\",\n",
      "\n",
      "1 Failed download:\n",
      "['YA-U.TI']: Exception('%ticker%: No timezone found, symbol may be delisted')\n",
      "/Users/matteozoli/Desktop/VESPER_script/GOLD DIGGER/NEW/downloader.ipynb:81: FutureWarning: The behavior of array concatenation with empty entries is deprecated. In a future version, this will no longer exclude empty items when determining the result dtype. To retain the old behavior, exclude the empty entries before the concat operation.\n",
      "  \"    print(\\\"\\\\nFor the time range:\\\", start_day, \\\" \\\", last_day)\\n\",\n"
     ]
    },
    {
     "name": "stdout",
     "output_type": "stream",
     "text": [
      "I am downloading: YA-U.TI .This is number: 125 out of: 521 . \n",
      "So far I have downloaded properly: 84 stocks\n"
     ]
    },
    {
     "name": "stderr",
     "output_type": "stream",
     "text": [
      "\n",
      "1 Failed download:\n",
      "['YSF.MI']: Exception('%ticker%: No price data found, symbol may be delisted (1d 2022-01-01 -> 2023-09-10)')\n",
      "/Users/matteozoli/Desktop/VESPER_script/GOLD DIGGER/NEW/downloader.ipynb:81: FutureWarning: The behavior of array concatenation with empty entries is deprecated. In a future version, this will no longer exclude empty items when determining the result dtype. To retain the old behavior, exclude the empty entries before the concat operation.\n",
      "  \"    print(\\\"\\\\nFor the time range:\\\", start_day, \\\" \\\", last_day)\\n\",\n",
      "\n",
      "1 Failed download:\n",
      "['ESCO.MI']: Exception('%ticker%: No price data found, symbol may be delisted (1d 2022-01-01 -> 2023-09-10)')\n",
      "/Users/matteozoli/Desktop/VESPER_script/GOLD DIGGER/NEW/downloader.ipynb:81: FutureWarning: The behavior of array concatenation with empty entries is deprecated. In a future version, this will no longer exclude empty items when determining the result dtype. To retain the old behavior, exclude the empty entries before the concat operation.\n",
      "  \"    print(\\\"\\\\nFor the time range:\\\", start_day, \\\" \\\", last_day)\\n\",\n",
      "\n",
      "1 Failed download:\n",
      "['MZB.MI']: Exception('%ticker%: No timezone found, symbol may be delisted')\n",
      "/Users/matteozoli/Desktop/VESPER_script/GOLD DIGGER/NEW/downloader.ipynb:81: FutureWarning: The behavior of array concatenation with empty entries is deprecated. In a future version, this will no longer exclude empty items when determining the result dtype. To retain the old behavior, exclude the empty entries before the concat operation.\n",
      "  \"    print(\\\"\\\\nFor the time range:\\\", start_day, \\\" \\\", last_day)\\n\",\n",
      "\n",
      "1 Failed download:\n",
      "['ZURN-U.TI']: Exception('%ticker%: No timezone found, symbol may be delisted')\n",
      "/Users/matteozoli/Desktop/VESPER_script/GOLD DIGGER/NEW/downloader.ipynb:81: FutureWarning: The behavior of array concatenation with empty entries is deprecated. In a future version, this will no longer exclude empty items when determining the result dtype. To retain the old behavior, exclude the empty entries before the concat operation.\n",
      "  \"    print(\\\"\\\\nFor the time range:\\\", start_day, \\\" \\\", last_day)\\n\",\n"
     ]
    },
    {
     "name": "stdout",
     "output_type": "stream",
     "text": [
      "I am downloading: MZB.MI .This is number: 130 out of: 521 . \n",
      "So far I have downloaded properly: 86 stocks\n"
     ]
    },
    {
     "name": "stderr",
     "output_type": "stream",
     "text": [
      "\n",
      "1 Failed download:\n",
      "['ZUCR.MI']: Exception('%ticker%: No timezone found, symbol may be delisted')\n",
      "/Users/matteozoli/Desktop/VESPER_script/GOLD DIGGER/NEW/downloader.ipynb:81: FutureWarning: The behavior of array concatenation with empty entries is deprecated. In a future version, this will no longer exclude empty items when determining the result dtype. To retain the old behavior, exclude the empty entries before the concat operation.\n",
      "  \"    print(\\\"\\\\nFor the time range:\\\", start_day, \\\" \\\", last_day)\\n\",\n",
      "\n",
      "1 Failed download:\n",
      "['AA-U.TI']: Exception('%ticker%: No timezone found, symbol may be delisted')\n",
      "/Users/matteozoli/Desktop/VESPER_script/GOLD DIGGER/NEW/downloader.ipynb:81: FutureWarning: The behavior of array concatenation with empty entries is deprecated. In a future version, this will no longer exclude empty items when determining the result dtype. To retain the old behavior, exclude the empty entries before the concat operation.\n",
      "  \"    print(\\\"\\\\nFor the time range:\\\", start_day, \\\" \\\", last_day)\\n\",\n",
      "\n",
      "1 Failed download:\n",
      "['ABBN-U.TI']: Exception('%ticker%: No timezone found, symbol may be delisted')\n",
      "/Users/matteozoli/Desktop/VESPER_script/GOLD DIGGER/NEW/downloader.ipynb:81: FutureWarning: The behavior of array concatenation with empty entries is deprecated. In a future version, this will no longer exclude empty items when determining the result dtype. To retain the old behavior, exclude the empty entries before the concat operation.\n",
      "  \"    print(\\\"\\\\nFor the time range:\\\", start_day, \\\" \\\", last_day)\\n\",\n",
      "\n",
      "1 Failed download:\n",
      "['ABI-U.TI']: Exception('%ticker%: No timezone found, symbol may be delisted')\n",
      "/Users/matteozoli/Desktop/VESPER_script/GOLD DIGGER/NEW/downloader.ipynb:81: FutureWarning: The behavior of array concatenation with empty entries is deprecated. In a future version, this will no longer exclude empty items when determining the result dtype. To retain the old behavior, exclude the empty entries before the concat operation.\n",
      "  \"    print(\\\"\\\\nFor the time range:\\\", start_day, \\\" \\\", last_day)\\n\",\n"
     ]
    },
    {
     "name": "stdout",
     "output_type": "stream",
     "text": [
      "I am downloading: ABI-U.TI .This is number: 135 out of: 521 . \n",
      "So far I have downloaded properly: 86 stocks\n"
     ]
    },
    {
     "name": "stderr",
     "output_type": "stream",
     "text": [
      "\n",
      "1 Failed download:\n",
      "['ACS.MI']: Exception('%ticker%: No timezone found, symbol may be delisted')\n",
      "/Users/matteozoli/Desktop/VESPER_script/GOLD DIGGER/NEW/downloader.ipynb:81: FutureWarning: The behavior of array concatenation with empty entries is deprecated. In a future version, this will no longer exclude empty items when determining the result dtype. To retain the old behavior, exclude the empty entries before the concat operation.\n",
      "  \"    print(\\\"\\\\nFor the time range:\\\", start_day, \\\" \\\", last_day)\\n\",\n",
      "\n",
      "1 Failed download:\n",
      "['ACO.MI']: Exception('%ticker%: No timezone found, symbol may be delisted')\n",
      "/Users/matteozoli/Desktop/VESPER_script/GOLD DIGGER/NEW/downloader.ipynb:81: FutureWarning: The behavior of array concatenation with empty entries is deprecated. In a future version, this will no longer exclude empty items when determining the result dtype. To retain the old behavior, exclude the empty entries before the concat operation.\n",
      "  \"    print(\\\"\\\\nFor the time range:\\\", start_day, \\\" \\\", last_day)\\n\",\n"
     ]
    },
    {
     "name": "stdout",
     "output_type": "stream",
     "text": [
      "I am downloading: ACC-U.TI .This is number: 140 out of: 521 . \n",
      "So far I have downloaded properly: 89 stocks\n"
     ]
    },
    {
     "name": "stderr",
     "output_type": "stream",
     "text": [
      "\n",
      "1 Failed download:\n",
      "['CDR.MI']: Exception('%ticker%: No timezone found, symbol may be delisted')\n",
      "/Users/matteozoli/Desktop/VESPER_script/GOLD DIGGER/NEW/downloader.ipynb:81: FutureWarning: The behavior of array concatenation with empty entries is deprecated. In a future version, this will no longer exclude empty items when determining the result dtype. To retain the old behavior, exclude the empty entries before the concat operation.\n",
      "  \"    print(\\\"\\\\nFor the time range:\\\", start_day, \\\" \\\", last_day)\\n\",\n",
      "\n",
      "1 Failed download:\n",
      "['BABA-U.TI']: Exception('%ticker%: No timezone found, symbol may be delisted')\n"
     ]
    },
    {
     "name": "stdout",
     "output_type": "stream",
     "text": [
      "I am downloading: ADSG-U.TI .This is number: 145 out of: 521 . \n",
      "So far I have downloaded properly: 93 stocks\n"
     ]
    },
    {
     "name": "stderr",
     "output_type": "stream",
     "text": [
      "/Users/matteozoli/Desktop/VESPER_script/GOLD DIGGER/NEW/downloader.ipynb:81: FutureWarning: The behavior of array concatenation with empty entries is deprecated. In a future version, this will no longer exclude empty items when determining the result dtype. To retain the old behavior, exclude the empty entries before the concat operation.\n",
      "  \"    print(\\\"\\\\nFor the time range:\\\", start_day, \\\" \\\", last_day)\\n\",\n"
     ]
    },
    {
     "name": "stdout",
     "output_type": "stream",
     "text": [
      "I am downloading: AGN.TI .This is number: 150 out of: 521 . \n",
      "So far I have downloaded properly: 97 stocks\n"
     ]
    },
    {
     "name": "stderr",
     "output_type": "stream",
     "text": [
      "\n",
      "1 Failed download:\n",
      "['A.MI']: Exception('%ticker%: No timezone found, symbol may be delisted')\n",
      "/Users/matteozoli/Desktop/VESPER_script/GOLD DIGGER/NEW/downloader.ipynb:81: FutureWarning: The behavior of array concatenation with empty entries is deprecated. In a future version, this will no longer exclude empty items when determining the result dtype. To retain the old behavior, exclude the empty entries before the concat operation.\n",
      "  \"    print(\\\"\\\\nFor the time range:\\\", start_day, \\\" \\\", last_day)\\n\",\n",
      "\n",
      "1 Failed download:\n",
      "['ARE.MI']: Exception('%ticker%: No price data found, symbol may be delisted (1d 2022-01-01 -> 2023-09-10)')\n",
      "/Users/matteozoli/Desktop/VESPER_script/GOLD DIGGER/NEW/downloader.ipynb:81: FutureWarning: The behavior of array concatenation with empty entries is deprecated. In a future version, this will no longer exclude empty items when determining the result dtype. To retain the old behavior, exclude the empty entries before the concat operation.\n",
      "  \"    print(\\\"\\\\nFor the time range:\\\", start_day, \\\" \\\", last_day)\\n\",\n"
     ]
    },
    {
     "name": "stdout",
     "output_type": "stream",
     "text": [
      "I am downloading: MASI.MI .This is number: 155 out of: 521 . \n",
      "So far I have downloaded properly: 100 stocks\n"
     ]
    },
    {
     "name": "stderr",
     "output_type": "stream",
     "text": [
      "\n",
      "1 Failed download:\n",
      "['AH.TI']: Exception('%ticker%: No timezone found, symbol may be delisted')\n"
     ]
    },
    {
     "name": "stdout",
     "output_type": "stream",
     "text": [
      "I am downloading: OJM.MI .This is number: 160 out of: 521 . \n",
      "So far I have downloaded properly: 105 stocks\n"
     ]
    },
    {
     "name": "stderr",
     "output_type": "stream",
     "text": [
      "/Users/matteozoli/Desktop/VESPER_script/GOLD DIGGER/NEW/downloader.ipynb:81: FutureWarning: The behavior of array concatenation with empty entries is deprecated. In a future version, this will no longer exclude empty items when determining the result dtype. To retain the old behavior, exclude the empty entries before the concat operation.\n",
      "  \"    print(\\\"\\\\nFor the time range:\\\", start_day, \\\" \\\", last_day)\\n\",\n",
      "\n",
      "1 Failed download:\n",
      "['AHO.MI']: Exception('%ticker%: No timezone found, symbol may be delisted')\n",
      "/Users/matteozoli/Desktop/VESPER_script/GOLD DIGGER/NEW/downloader.ipynb:81: FutureWarning: The behavior of array concatenation with empty entries is deprecated. In a future version, this will no longer exclude empty items when determining the result dtype. To retain the old behavior, exclude the empty entries before the concat operation.\n",
      "  \"    print(\\\"\\\\nFor the time range:\\\", start_day, \\\" \\\", last_day)\\n\",\n",
      "\n",
      "1 Failed download:\n",
      "['AKZO-U.TI']: Exception('%ticker%: No timezone found, symbol may be delisted')\n"
     ]
    },
    {
     "name": "stdout",
     "output_type": "stream",
     "text": [
      "I am downloading: EAD-U.TI .This is number: 165 out of: 521 . \n",
      "So far I have downloaded properly: 108 stocks\n"
     ]
    },
    {
     "name": "stderr",
     "output_type": "stream",
     "text": [
      "/Users/matteozoli/Desktop/VESPER_script/GOLD DIGGER/NEW/downloader.ipynb:81: FutureWarning: The behavior of array concatenation with empty entries is deprecated. In a future version, this will no longer exclude empty items when determining the result dtype. To retain the old behavior, exclude the empty entries before the concat operation.\n",
      "  \"    print(\\\"\\\\nFor the time range:\\\", start_day, \\\" \\\", last_day)\\n\",\n",
      "\n",
      "1 Failed download:\n",
      "['APE.MI']: Exception('%ticker%: No price data found, symbol may be delisted (1d 2022-01-01 -> 2023-09-10)')\n",
      "/Users/matteozoli/Desktop/VESPER_script/GOLD DIGGER/NEW/downloader.ipynb:81: FutureWarning: The behavior of array concatenation with empty entries is deprecated. In a future version, this will no longer exclude empty items when determining the result dtype. To retain the old behavior, exclude the empty entries before the concat operation.\n",
      "  \"    print(\\\"\\\\nFor the time range:\\\", start_day, \\\" \\\", last_day)\\n\",\n",
      "\n",
      "1 Failed download:\n",
      "['CGE.TI']: Exception('%ticker%: No timezone found, symbol may be delisted')\n",
      "/Users/matteozoli/Desktop/VESPER_script/GOLD DIGGER/NEW/downloader.ipynb:81: FutureWarning: The behavior of array concatenation with empty entries is deprecated. In a future version, this will no longer exclude empty items when determining the result dtype. To retain the old behavior, exclude the empty entries before the concat operation.\n",
      "  \"    print(\\\"\\\\nFor the time range:\\\", start_day, \\\" \\\", last_day)\\n\",\n",
      "\n",
      "1 Failed download:\n",
      "['ALBA.MI']: Exception('%ticker%: No timezone found, symbol may be delisted')\n",
      "/Users/matteozoli/Desktop/VESPER_script/GOLD DIGGER/NEW/downloader.ipynb:81: FutureWarning: The behavior of array concatenation with empty entries is deprecated. In a future version, this will no longer exclude empty items when determining the result dtype. To retain the old behavior, exclude the empty entries before the concat operation.\n",
      "  \"    print(\\\"\\\\nFor the time range:\\\", start_day, \\\" \\\", last_day)\\n\",\n"
     ]
    },
    {
     "name": "stdout",
     "output_type": "stream",
     "text": [
      "I am downloading: CGE.TI .This is number: 170 out of: 521 . \n",
      "So far I have downloaded properly: 110 stocks\n",
      "I am downloading: AMP.MI .This is number: 175 out of: 521 . \n",
      "So far I have downloaded properly: 114 stocks\n"
     ]
    },
    {
     "name": "stderr",
     "output_type": "stream",
     "text": [
      "\n",
      "1 Failed download:\n",
      "['ATH.MI']: Exception('%ticker%: No timezone found, symbol may be delisted')\n",
      "/Users/matteozoli/Desktop/VESPER_script/GOLD DIGGER/NEW/downloader.ipynb:81: FutureWarning: The behavior of array concatenation with empty entries is deprecated. In a future version, this will no longer exclude empty items when determining the result dtype. To retain the old behavior, exclude the empty entries before the concat operation.\n",
      "  \"    print(\\\"\\\\nFor the time range:\\\", start_day, \\\" \\\", last_day)\\n\",\n",
      "\n",
      "1 Failed download:\n",
      "['STS.MI']: Exception('%ticker%: No price data found, symbol may be delisted (1d 2022-01-01 -> 2023-09-10)')\n"
     ]
    },
    {
     "name": "stdout",
     "output_type": "stream",
     "text": [
      "I am downloading: AMG-U.TI .This is number: 180 out of: 521 . \n",
      "So far I have downloaded properly: 118 stocks\n"
     ]
    },
    {
     "name": "stderr",
     "output_type": "stream",
     "text": [
      "/Users/matteozoli/Desktop/VESPER_script/GOLD DIGGER/NEW/downloader.ipynb:81: FutureWarning: The behavior of array concatenation with empty entries is deprecated. In a future version, this will no longer exclude empty items when determining the result dtype. To retain the old behavior, exclude the empty entries before the concat operation.\n",
      "  \"    print(\\\"\\\\nFor the time range:\\\", start_day, \\\" \\\", last_day)\\n\",\n",
      "\n",
      "1 Failed download:\n",
      "['ISPA-U.TI']: Exception('%ticker%: No timezone found, symbol may be delisted')\n",
      "/Users/matteozoli/Desktop/VESPER_script/GOLD DIGGER/NEW/downloader.ipynb:81: FutureWarning: The behavior of array concatenation with empty entries is deprecated. In a future version, this will no longer exclude empty items when determining the result dtype. To retain the old behavior, exclude the empty entries before the concat operation.\n",
      "  \"    print(\\\"\\\\nFor the time range:\\\", start_day, \\\" \\\", last_day)\\n\",\n",
      "\n",
      "1 Failed download:\n",
      "['ASSI.MI']: Exception('%ticker%: No timezone found, symbol may be delisted')\n",
      "/Users/matteozoli/Desktop/VESPER_script/GOLD DIGGER/NEW/downloader.ipynb:81: FutureWarning: The behavior of array concatenation with empty entries is deprecated. In a future version, this will no longer exclude empty items when determining the result dtype. To retain the old behavior, exclude the empty entries before the concat operation.\n",
      "  \"    print(\\\"\\\\nFor the time range:\\\", start_day, \\\" \\\", last_day)\\n\",\n",
      "\n",
      "1 Failed download:\n",
      "['CASS.MI']: Exception('%ticker%: No timezone found, symbol may be delisted')\n",
      "/Users/matteozoli/Desktop/VESPER_script/GOLD DIGGER/NEW/downloader.ipynb:81: FutureWarning: The behavior of array concatenation with empty entries is deprecated. In a future version, this will no longer exclude empty items when determining the result dtype. To retain the old behavior, exclude the empty entries before the concat operation.\n",
      "  \"    print(\\\"\\\\nFor the time range:\\\", start_day, \\\" \\\", last_day)\\n\",\n",
      "\n",
      "1 Failed download:\n",
      "['ASR.MI']: Exception('%ticker%: No timezone found, symbol may be delisted')\n",
      "/Users/matteozoli/Desktop/VESPER_script/GOLD DIGGER/NEW/downloader.ipynb:81: FutureWarning: The behavior of array concatenation with empty entries is deprecated. In a future version, this will no longer exclude empty items when determining the result dtype. To retain the old behavior, exclude the empty entries before the concat operation.\n",
      "  \"    print(\\\"\\\\nFor the time range:\\\", start_day, \\\" \\\", last_day)\\n\",\n",
      "\n",
      "1 Failed download:\n",
      "['AT.MI']: Exception('%ticker%: No timezone found, symbol may be delisted')\n",
      "/Users/matteozoli/Desktop/VESPER_script/GOLD DIGGER/NEW/downloader.ipynb:81: FutureWarning: The behavior of array concatenation with empty entries is deprecated. In a future version, this will no longer exclude empty items when determining the result dtype. To retain the old behavior, exclude the empty entries before the concat operation.\n",
      "  \"    print(\\\"\\\\nFor the time range:\\\", start_day, \\\" \\\", last_day)\\n\",\n"
     ]
    },
    {
     "name": "stdout",
     "output_type": "stream",
     "text": [
      "I am downloading: ASR.MI .This is number: 185 out of: 521 . \n",
      "So far I have downloaded properly: 118 stocks\n"
     ]
    },
    {
     "name": "stderr",
     "output_type": "stream",
     "text": [
      "\n",
      "1 Failed download:\n",
      "['ATL.MI']: Exception('%ticker%: No timezone found, symbol may be delisted')\n",
      "/Users/matteozoli/Desktop/VESPER_script/GOLD DIGGER/NEW/downloader.ipynb:81: FutureWarning: The behavior of array concatenation with empty entries is deprecated. In a future version, this will no longer exclude empty items when determining the result dtype. To retain the old behavior, exclude the empty entries before the concat operation.\n",
      "  \"    print(\\\"\\\\nFor the time range:\\\", start_day, \\\" \\\", last_day)\\n\",\n",
      "\n",
      "1 Failed download:\n",
      "['SIS.MI']: Exception('%ticker%: No timezone found, symbol may be delisted')\n",
      "/Users/matteozoli/Desktop/VESPER_script/GOLD DIGGER/NEW/downloader.ipynb:81: FutureWarning: The behavior of array concatenation with empty entries is deprecated. In a future version, this will no longer exclude empty items when determining the result dtype. To retain the old behavior, exclude the empty entries before the concat operation.\n",
      "  \"    print(\\\"\\\\nFor the time range:\\\", start_day, \\\" \\\", last_day)\\n\",\n",
      "\n",
      "1 Failed download:\n",
      "['FCA.MI']: Exception('%ticker%: No timezone found, symbol may be delisted')\n",
      "/Users/matteozoli/Desktop/VESPER_script/GOLD DIGGER/NEW/downloader.ipynb:81: FutureWarning: The behavior of array concatenation with empty entries is deprecated. In a future version, this will no longer exclude empty items when determining the result dtype. To retain the old behavior, exclude the empty entries before the concat operation.\n",
      "  \"    print(\\\"\\\\nFor the time range:\\\", start_day, \\\" \\\", last_day)\\n\",\n"
     ]
    },
    {
     "name": "stdout",
     "output_type": "stream",
     "text": [
      "I am downloading: SIS.MI .This is number: 190 out of: 521 . \n",
      "So far I have downloaded properly: 120 stocks\n"
     ]
    },
    {
     "name": "stderr",
     "output_type": "stream",
     "text": [
      "\n",
      "1 Failed download:\n",
      "['BOE.MI']: Exception('%ticker%: No price data found, symbol may be delisted (1d 2022-01-01 -> 2023-09-10)')\n",
      "/Users/matteozoli/Desktop/VESPER_script/GOLD DIGGER/NEW/downloader.ipynb:81: FutureWarning: The behavior of array concatenation with empty entries is deprecated. In a future version, this will no longer exclude empty items when determining the result dtype. To retain the old behavior, exclude the empty entries before the concat operation.\n",
      "  \"    print(\\\"\\\\nFor the time range:\\\", start_day, \\\" \\\", last_day)\\n\",\n"
     ]
    },
    {
     "name": "stdout",
     "output_type": "stream",
     "text": [
      "I am downloading: BOE.MI .This is number: 195 out of: 521 . \n",
      "So far I have downloaded properly: 123 stocks\n"
     ]
    },
    {
     "name": "stderr",
     "output_type": "stream",
     "text": [
      "\n",
      "1 Failed download:\n",
      "['BANZ.MI']: Exception('%ticker%: No price data found, symbol may be delisted (1d 2022-01-01 -> 2023-09-10)')\n",
      "/Users/matteozoli/Desktop/VESPER_script/GOLD DIGGER/NEW/downloader.ipynb:81: FutureWarning: The behavior of array concatenation with empty entries is deprecated. In a future version, this will no longer exclude empty items when determining the result dtype. To retain the old behavior, exclude the empty entries before the concat operation.\n",
      "  \"    print(\\\"\\\\nFor the time range:\\\", start_day, \\\" \\\", last_day)\\n\",\n",
      "\n",
      "1 Failed download:\n",
      "['CRG.MI']: Exception('%ticker%: No timezone found, symbol may be delisted')\n",
      "/Users/matteozoli/Desktop/VESPER_script/GOLD DIGGER/NEW/downloader.ipynb:81: FutureWarning: The behavior of array concatenation with empty entries is deprecated. In a future version, this will no longer exclude empty items when determining the result dtype. To retain the old behavior, exclude the empty entries before the concat operation.\n",
      "  \"    print(\\\"\\\\nFor the time range:\\\", start_day, \\\" \\\", last_day)\\n\",\n",
      "\n",
      "1 Failed download:\n",
      "['BP.MI']: Exception('%ticker%: No price data found, symbol may be delisted (1d 2022-01-01 -> 2023-09-10)')\n",
      "/Users/matteozoli/Desktop/VESPER_script/GOLD DIGGER/NEW/downloader.ipynb:81: FutureWarning: The behavior of array concatenation with empty entries is deprecated. In a future version, this will no longer exclude empty items when determining the result dtype. To retain the old behavior, exclude the empty entries before the concat operation.\n",
      "  \"    print(\\\"\\\\nFor the time range:\\\", start_day, \\\" \\\", last_day)\\n\",\n"
     ]
    },
    {
     "name": "stdout",
     "output_type": "stream",
     "text": [
      "I am downloading: BP.MI .This is number: 200 out of: 521 . \n",
      "So far I have downloaded properly: 125 stocks\n",
      "I am downloading: IF.MI .This is number: 205 out of: 521 . \n",
      "So far I have downloaded properly: 130 stocks\n"
     ]
    },
    {
     "name": "stderr",
     "output_type": "stream",
     "text": [
      "\n",
      "1 Failed download:\n",
      "['BDBR.MI']: Exception('%ticker%: No timezone found, symbol may be delisted')\n",
      "/Users/matteozoli/Desktop/VESPER_script/GOLD DIGGER/NEW/downloader.ipynb:81: FutureWarning: The behavior of array concatenation with empty entries is deprecated. In a future version, this will no longer exclude empty items when determining the result dtype. To retain the old behavior, exclude the empty entries before the concat operation.\n",
      "  \"    print(\\\"\\\\nFor the time range:\\\", start_day, \\\" \\\", last_day)\\n\",\n",
      "\n",
      "1 Failed download:\n",
      "['BCM.MI']: Exception('%ticker%: No timezone found, symbol may be delisted')\n"
     ]
    },
    {
     "name": "stdout",
     "output_type": "stream",
     "text": [
      "I am downloading: BDB.MI .This is number: 210 out of: 521 . \n",
      "So far I have downloaded properly: 134 stocks\n"
     ]
    },
    {
     "name": "stderr",
     "output_type": "stream",
     "text": [
      "/Users/matteozoli/Desktop/VESPER_script/GOLD DIGGER/NEW/downloader.ipynb:81: FutureWarning: The behavior of array concatenation with empty entries is deprecated. In a future version, this will no longer exclude empty items when determining the result dtype. To retain the old behavior, exclude the empty entries before the concat operation.\n",
      "  \"    print(\\\"\\\\nFor the time range:\\\", start_day, \\\" \\\", last_day)\\n\",\n",
      "\n",
      "1 Failed download:\n",
      "['BNS.MI']: Exception('%ticker%: No price data found, symbol may be delisted (1d 2022-01-01 -> 2023-09-10)')\n",
      "/Users/matteozoli/Desktop/VESPER_script/GOLD DIGGER/NEW/downloader.ipynb:81: FutureWarning: The behavior of array concatenation with empty entries is deprecated. In a future version, this will no longer exclude empty items when determining the result dtype. To retain the old behavior, exclude the empty entries before the concat operation.\n",
      "  \"    print(\\\"\\\\nFor the time range:\\\", start_day, \\\" \\\", last_day)\\n\",\n",
      "\n",
      "1 Failed download:\n",
      "['BET.MI']: Exception('%ticker%: No timezone found, symbol may be delisted')\n",
      "/Users/matteozoli/Desktop/VESPER_script/GOLD DIGGER/NEW/downloader.ipynb:81: FutureWarning: The behavior of array concatenation with empty entries is deprecated. In a future version, this will no longer exclude empty items when determining the result dtype. To retain the old behavior, exclude the empty entries before the concat operation.\n",
      "  \"    print(\\\"\\\\nFor the time range:\\\", start_day, \\\" \\\", last_day)\\n\",\n"
     ]
    },
    {
     "name": "stdout",
     "output_type": "stream",
     "text": [
      "I am downloading: BEC.MI .This is number: 215 out of: 521 . \n",
      "So far I have downloaded properly: 136 stocks\n"
     ]
    },
    {
     "name": "stderr",
     "output_type": "stream",
     "text": [
      "\n",
      "1 Failed download:\n",
      "['DEXB-U.TI']: Exception('%ticker%: No timezone found, symbol may be delisted')\n",
      "/Users/matteozoli/Desktop/VESPER_script/GOLD DIGGER/NEW/downloader.ipynb:81: FutureWarning: The behavior of array concatenation with empty entries is deprecated. In a future version, this will no longer exclude empty items when determining the result dtype. To retain the old behavior, exclude the empty entries before the concat operation.\n",
      "  \"    print(\\\"\\\\nFor the time range:\\\", start_day, \\\" \\\", last_day)\\n\",\n",
      "\n",
      "1 Failed download:\n",
      "['BEST.MI']: Exception('%ticker%: No timezone found, symbol may be delisted')\n",
      "/Users/matteozoli/Desktop/VESPER_script/GOLD DIGGER/NEW/downloader.ipynb:81: FutureWarning: The behavior of array concatenation with empty entries is deprecated. In a future version, this will no longer exclude empty items when determining the result dtype. To retain the old behavior, exclude the empty entries before the concat operation.\n",
      "  \"    print(\\\"\\\\nFor the time range:\\\", start_day, \\\" \\\", last_day)\\n\",\n",
      "\n",
      "1 Failed download:\n",
      "['BFE.MI']: Exception('%ticker%: No timezone found, symbol may be delisted')\n",
      "/Users/matteozoli/Desktop/VESPER_script/GOLD DIGGER/NEW/downloader.ipynb:81: FutureWarning: The behavior of array concatenation with empty entries is deprecated. In a future version, this will no longer exclude empty items when determining the result dtype. To retain the old behavior, exclude the empty entries before the concat operation.\n",
      "  \"    print(\\\"\\\\nFor the time range:\\\", start_day, \\\" \\\", last_day)\\n\",\n",
      "\n",
      "1 Failed download:\n",
      "['BF.MI']: Exception('%ticker%: No price data found, symbol may be delisted (1d 2022-01-01 -> 2023-09-10)')\n",
      "/Users/matteozoli/Desktop/VESPER_script/GOLD DIGGER/NEW/downloader.ipynb:81: FutureWarning: The behavior of array concatenation with empty entries is deprecated. In a future version, this will no longer exclude empty items when determining the result dtype. To retain the old behavior, exclude the empty entries before the concat operation.\n",
      "  \"    print(\\\"\\\\nFor the time range:\\\", start_day, \\\" \\\", last_day)\\n\",\n"
     ]
    },
    {
     "name": "stdout",
     "output_type": "stream",
     "text": [
      "I am downloading: BF.MI .This is number: 220 out of: 521 . \n",
      "So far I have downloaded properly: 137 stocks\n"
     ]
    },
    {
     "name": "stderr",
     "output_type": "stream",
     "text": [
      "\n",
      "1 Failed download:\n",
      "['BIO2.MI']: Exception('%ticker%: No timezone found, symbol may be delisted')\n",
      "/Users/matteozoli/Desktop/VESPER_script/GOLD DIGGER/NEW/downloader.ipynb:81: FutureWarning: The behavior of array concatenation with empty entries is deprecated. In a future version, this will no longer exclude empty items when determining the result dtype. To retain the old behavior, exclude the empty entries before the concat operation.\n",
      "  \"    print(\\\"\\\\nFor the time range:\\\", start_day, \\\" \\\", last_day)\\n\",\n",
      "\n",
      "1 Failed download:\n",
      "['BLUE.MI']: Exception('%ticker%: No timezone found, symbol may be delisted')\n",
      "/Users/matteozoli/Desktop/VESPER_script/GOLD DIGGER/NEW/downloader.ipynb:81: FutureWarning: The behavior of array concatenation with empty entries is deprecated. In a future version, this will no longer exclude empty items when determining the result dtype. To retain the old behavior, exclude the empty entries before the concat operation.\n",
      "  \"    print(\\\"\\\\nFor the time range:\\\", start_day, \\\" \\\", last_day)\\n\",\n"
     ]
    },
    {
     "name": "stdout",
     "output_type": "stream",
     "text": [
      "I am downloading: BIO2.MI .This is number: 225 out of: 521 . \n",
      "So far I have downloaded properly: 141 stocks\n"
     ]
    },
    {
     "name": "stderr",
     "output_type": "stream",
     "text": [
      "\n",
      "1 Failed download:\n",
      "['BLU.MI']: Exception('%ticker%: No price data found, symbol may be delisted (1d 2022-01-01 -> 2023-09-10)')\n",
      "/Users/matteozoli/Desktop/VESPER_script/GOLD DIGGER/NEW/downloader.ipynb:81: FutureWarning: The behavior of array concatenation with empty entries is deprecated. In a future version, this will no longer exclude empty items when determining the result dtype. To retain the old behavior, exclude the empty entries before the concat operation.\n",
      "  \"    print(\\\"\\\\nFor the time range:\\\", start_day, \\\" \\\", last_day)\\n\",\n",
      "\n",
      "1 Failed download:\n",
      "['BLZ.MI']: Exception('%ticker%: No price data found, symbol may be delisted (1d 2022-01-01 -> 2023-09-10)')\n",
      "/Users/matteozoli/Desktop/VESPER_script/GOLD DIGGER/NEW/downloader.ipynb:81: FutureWarning: The behavior of array concatenation with empty entries is deprecated. In a future version, this will no longer exclude empty items when determining the result dtype. To retain the old behavior, exclude the empty entries before the concat operation.\n",
      "  \"    print(\\\"\\\\nFor the time range:\\\", start_day, \\\" \\\", last_day)\\n\",\n",
      "\n",
      "1 Failed download:\n",
      "['BM.MI']: Exception('%ticker%: No price data found, symbol may be delisted (1d 2022-01-01 -> 2023-09-10)')\n",
      "/Users/matteozoli/Desktop/VESPER_script/GOLD DIGGER/NEW/downloader.ipynb:81: FutureWarning: The behavior of array concatenation with empty entries is deprecated. In a future version, this will no longer exclude empty items when determining the result dtype. To retain the old behavior, exclude the empty entries before the concat operation.\n",
      "  \"    print(\\\"\\\\nFor the time range:\\\", start_day, \\\" \\\", last_day)\\n\",\n"
     ]
    },
    {
     "name": "stdout",
     "output_type": "stream",
     "text": [
      "I am downloading: BMW.TI .This is number: 230 out of: 521 . \n",
      "So far I have downloaded properly: 142 stocks\n"
     ]
    },
    {
     "name": "stderr",
     "output_type": "stream",
     "text": [
      "\n",
      "1 Failed download:\n",
      "['BOMI.MI']: Exception('%ticker%: No timezone found, symbol may be delisted')\n",
      "/Users/matteozoli/Desktop/VESPER_script/GOLD DIGGER/NEW/downloader.ipynb:81: FutureWarning: The behavior of array concatenation with empty entries is deprecated. In a future version, this will no longer exclude empty items when determining the result dtype. To retain the old behavior, exclude the empty entries before the concat operation.\n",
      "  \"    print(\\\"\\\\nFor the time range:\\\", start_day, \\\" \\\", last_day)\\n\",\n"
     ]
    },
    {
     "name": "stdout",
     "output_type": "stream",
     "text": [
      "I am downloading: DB1GN.TI .This is number: 235 out of: 521 . \n",
      "So far I have downloaded properly: 146 stocks\n"
     ]
    },
    {
     "name": "stderr",
     "output_type": "stream",
     "text": [
      "\n",
      "1 Failed download:\n",
      "['BOR.MI']: Exception('%ticker%: No timezone found, symbol may be delisted')\n",
      "/Users/matteozoli/Desktop/VESPER_script/GOLD DIGGER/NEW/downloader.ipynb:81: FutureWarning: The behavior of array concatenation with empty entries is deprecated. In a future version, this will no longer exclude empty items when determining the result dtype. To retain the old behavior, exclude the empty entries before the concat operation.\n",
      "  \"    print(\\\"\\\\nFor the time range:\\\", start_day, \\\" \\\", last_day)\\n\",\n"
     ]
    },
    {
     "name": "stdout",
     "output_type": "stream",
     "text": [
      "I am downloading: DIB.MI .This is number: 240 out of: 521 . \n",
      "So far I have downloaded properly: 150 stocks\n"
     ]
    },
    {
     "name": "stderr",
     "output_type": "stream",
     "text": [
      "\n",
      "1 Failed download:\n",
      "['CARR.MI']: Exception('%ticker%: No timezone found, symbol may be delisted')\n",
      "/Users/matteozoli/Desktop/VESPER_script/GOLD DIGGER/NEW/downloader.ipynb:81: FutureWarning: The behavior of array concatenation with empty entries is deprecated. In a future version, this will no longer exclude empty items when determining the result dtype. To retain the old behavior, exclude the empty entries before the concat operation.\n",
      "  \"    print(\\\"\\\\nFor the time range:\\\", start_day, \\\" \\\", last_day)\\n\",\n",
      "\n",
      "1 Failed download:\n",
      "['CC.MI']: Exception('%ticker%: No price data found, symbol may be delisted (1d 2022-01-01 -> 2023-09-10)')\n"
     ]
    },
    {
     "name": "stdout",
     "output_type": "stream",
     "text": [
      "I am downloading: CB-U.TI .This is number: 245 out of: 521 . \n",
      "So far I have downloaded properly: 154 stocks\n"
     ]
    },
    {
     "name": "stderr",
     "output_type": "stream",
     "text": [
      "/Users/matteozoli/Desktop/VESPER_script/GOLD DIGGER/NEW/downloader.ipynb:81: FutureWarning: The behavior of array concatenation with empty entries is deprecated. In a future version, this will no longer exclude empty items when determining the result dtype. To retain the old behavior, exclude the empty entries before the concat operation.\n",
      "  \"    print(\\\"\\\\nFor the time range:\\\", start_day, \\\" \\\", last_day)\\n\",\n",
      "\n",
      "1 Failed download:\n",
      "['RIC.MI']: Exception('%ticker%: No timezone found, symbol may be delisted')\n",
      "/Users/matteozoli/Desktop/VESPER_script/GOLD DIGGER/NEW/downloader.ipynb:81: FutureWarning: The behavior of array concatenation with empty entries is deprecated. In a future version, this will no longer exclude empty items when determining the result dtype. To retain the old behavior, exclude the empty entries before the concat operation.\n",
      "  \"    print(\\\"\\\\nFor the time range:\\\", start_day, \\\" \\\", last_day)\\n\",\n",
      "\n",
      "1 Failed download:\n",
      "['PAN.MI']: Exception('%ticker%: No timezone found, symbol may be delisted')\n",
      "/Users/matteozoli/Desktop/VESPER_script/GOLD DIGGER/NEW/downloader.ipynb:81: FutureWarning: The behavior of array concatenation with empty entries is deprecated. In a future version, this will no longer exclude empty items when determining the result dtype. To retain the old behavior, exclude the empty entries before the concat operation.\n",
      "  \"    print(\\\"\\\\nFor the time range:\\\", start_day, \\\" \\\", last_day)\\n\",\n",
      "\n",
      "1 Failed download:\n",
      "['UNA.TI']: Exception('%ticker%: No timezone found, symbol may be delisted')\n"
     ]
    },
    {
     "name": "stdout",
     "output_type": "stream",
     "text": [
      "I am downloading: CE.MI .This is number: 250 out of: 521 . \n",
      "So far I have downloaded properly: 156 stocks\n"
     ]
    },
    {
     "name": "stderr",
     "output_type": "stream",
     "text": [
      "/Users/matteozoli/Desktop/VESPER_script/GOLD DIGGER/NEW/downloader.ipynb:81: FutureWarning: The behavior of array concatenation with empty entries is deprecated. In a future version, this will no longer exclude empty items when determining the result dtype. To retain the old behavior, exclude the empty entries before the concat operation.\n",
      "  \"    print(\\\"\\\\nFor the time range:\\\", start_day, \\\" \\\", last_day)\\n\",\n",
      "\n",
      "1 Failed download:\n",
      "['CLT.MI']: Exception('%ticker%: No price data found, symbol may be delisted (1d 2022-01-01 -> 2023-09-10)')\n",
      "/Users/matteozoli/Desktop/VESPER_script/GOLD DIGGER/NEW/downloader.ipynb:81: FutureWarning: The behavior of array concatenation with empty entries is deprecated. In a future version, this will no longer exclude empty items when determining the result dtype. To retain the old behavior, exclude the empty entries before the concat operation.\n",
      "  \"    print(\\\"\\\\nFor the time range:\\\", start_day, \\\" \\\", last_day)\\n\",\n",
      "\n",
      "1 Failed download:\n",
      "['CERV.MI']: Exception('%ticker%: No timezone found, symbol may be delisted')\n",
      "/Users/matteozoli/Desktop/VESPER_script/GOLD DIGGER/NEW/downloader.ipynb:81: FutureWarning: The behavior of array concatenation with empty entries is deprecated. In a future version, this will no longer exclude empty items when determining the result dtype. To retain the old behavior, exclude the empty entries before the concat operation.\n",
      "  \"    print(\\\"\\\\nFor the time range:\\\", start_day, \\\" \\\", last_day)\\n\",\n",
      "\n",
      "1 Failed download:\n",
      "['CFP.MI']: Exception('%ticker%: No timezone found, symbol may be delisted')\n",
      "/Users/matteozoli/Desktop/VESPER_script/GOLD DIGGER/NEW/downloader.ipynb:81: FutureWarning: The behavior of array concatenation with empty entries is deprecated. In a future version, this will no longer exclude empty items when determining the result dtype. To retain the old behavior, exclude the empty entries before the concat operation.\n",
      "  \"    print(\\\"\\\\nFor the time range:\\\", start_day, \\\" \\\", last_day)\\n\",\n"
     ]
    },
    {
     "name": "stdout",
     "output_type": "stream",
     "text": [
      "I am downloading: MSU.MI .This is number: 255 out of: 521 . \n",
      "So far I have downloaded properly: 157 stocks\n"
     ]
    },
    {
     "name": "stderr",
     "output_type": "stream",
     "text": [
      "\n",
      "1 Failed download:\n",
      "['ROC-U.TI']: Exception('%ticker%: No timezone found, symbol may be delisted')\n",
      "/Users/matteozoli/Desktop/VESPER_script/GOLD DIGGER/NEW/downloader.ipynb:81: FutureWarning: The behavior of array concatenation with empty entries is deprecated. In a future version, this will no longer exclude empty items when determining the result dtype. To retain the old behavior, exclude the empty entries before the concat operation.\n",
      "  \"    print(\\\"\\\\nFor the time range:\\\", start_day, \\\" \\\", last_day)\\n\",\n",
      "\n",
      "1 Failed download:\n",
      "['UBSG-U.TI']: Exception('%ticker%: No timezone found, symbol may be delisted')\n",
      "/Users/matteozoli/Desktop/VESPER_script/GOLD DIGGER/NEW/downloader.ipynb:81: FutureWarning: The behavior of array concatenation with empty entries is deprecated. In a future version, this will no longer exclude empty items when determining the result dtype. To retain the old behavior, exclude the empty entries before the concat operation.\n",
      "  \"    print(\\\"\\\\nFor the time range:\\\", start_day, \\\" \\\", last_day)\\n\",\n"
     ]
    },
    {
     "name": "stdout",
     "output_type": "stream",
     "text": [
      "I am downloading: CIT-U.TI .This is number: 260 out of: 521 . \n",
      "So far I have downloaded properly: 160 stocks\n"
     ]
    },
    {
     "name": "stderr",
     "output_type": "stream",
     "text": [
      "\n",
      "1 Failed download:\n",
      "['CLG.MI']: Exception('%ticker%: No timezone found, symbol may be delisted')\n"
     ]
    },
    {
     "name": "stdout",
     "output_type": "stream",
     "text": [
      "I am downloading: CLF.MI .This is number: 265 out of: 521 . \n",
      "So far I have downloaded properly: 165 stocks\n"
     ]
    },
    {
     "name": "stderr",
     "output_type": "stream",
     "text": [
      "/Users/matteozoli/Desktop/VESPER_script/GOLD DIGGER/NEW/downloader.ipynb:81: FutureWarning: The behavior of array concatenation with empty entries is deprecated. In a future version, this will no longer exclude empty items when determining the result dtype. To retain the old behavior, exclude the empty entries before the concat operation.\n",
      "  \"    print(\\\"\\\\nFor the time range:\\\", start_day, \\\" \\\", last_day)\\n\",\n",
      "\n",
      "1 Failed download:\n",
      "['CNP.MI']: Exception('%ticker%: No price data found, symbol may be delisted (1d 2022-01-01 -> 2023-09-10)')\n",
      "/Users/matteozoli/Desktop/VESPER_script/GOLD DIGGER/NEW/downloader.ipynb:81: FutureWarning: The behavior of array concatenation with empty entries is deprecated. In a future version, this will no longer exclude empty items when determining the result dtype. To retain the old behavior, exclude the empty entries before the concat operation.\n",
      "  \"    print(\\\"\\\\nFor the time range:\\\", start_day, \\\" \\\", last_day)\\n\",\n",
      "\n",
      "1 Failed download:\n",
      "['CRGR.MI']: Exception('%ticker%: No timezone found, symbol may be delisted')\n",
      "/Users/matteozoli/Desktop/VESPER_script/GOLD DIGGER/NEW/downloader.ipynb:81: FutureWarning: The behavior of array concatenation with empty entries is deprecated. In a future version, this will no longer exclude empty items when determining the result dtype. To retain the old behavior, exclude the empty entries before the concat operation.\n",
      "  \"    print(\\\"\\\\nFor the time range:\\\", start_day, \\\" \\\", last_day)\\n\",\n"
     ]
    },
    {
     "name": "stdout",
     "output_type": "stream",
     "text": [
      "I am downloading: CNP.MI .This is number: 270 out of: 521 . \n",
      "So far I have downloaded properly: 168 stocks\n"
     ]
    },
    {
     "name": "stderr",
     "output_type": "stream",
     "text": [
      "\n",
      "1 Failed download:\n",
      "['CVAL.MI']: Exception('%ticker%: No timezone found, symbol may be delisted')\n",
      "/Users/matteozoli/Desktop/VESPER_script/GOLD DIGGER/NEW/downloader.ipynb:81: FutureWarning: The behavior of array concatenation with empty entries is deprecated. In a future version, this will no longer exclude empty items when determining the result dtype. To retain the old behavior, exclude the empty entries before the concat operation.\n",
      "  \"    print(\\\"\\\\nFor the time range:\\\", start_day, \\\" \\\", last_day)\\n\",\n",
      "\n",
      "1 Failed download:\n",
      "['CSG-U.TI']: Exception('%ticker%: No timezone found, symbol may be delisted')\n",
      "/Users/matteozoli/Desktop/VESPER_script/GOLD DIGGER/NEW/downloader.ipynb:81: FutureWarning: The behavior of array concatenation with empty entries is deprecated. In a future version, this will no longer exclude empty items when determining the result dtype. To retain the old behavior, exclude the empty entries before the concat operation.\n",
      "  \"    print(\\\"\\\\nFor the time range:\\\", start_day, \\\" \\\", last_day)\\n\",\n"
     ]
    },
    {
     "name": "stdout",
     "output_type": "stream",
     "text": [
      "I am downloading: CSG-U.TI .This is number: 275 out of: 521 . \n",
      "So far I have downloaded properly: 170 stocks\n"
     ]
    },
    {
     "name": "stderr",
     "output_type": "stream",
     "text": [
      "\n",
      "1 Failed download:\n",
      "['DCX.TI']: Exception('%ticker%: No timezone found, symbol may be delisted')\n",
      "/Users/matteozoli/Desktop/VESPER_script/GOLD DIGGER/NEW/downloader.ipynb:81: FutureWarning: The behavior of array concatenation with empty entries is deprecated. In a future version, this will no longer exclude empty items when determining the result dtype. To retain the old behavior, exclude the empty entries before the concat operation.\n",
      "  \"    print(\\\"\\\\nFor the time range:\\\", start_day, \\\" \\\", last_day)\\n\",\n",
      "\n",
      "1 Failed download:\n",
      "['DA.MI']: Exception('%ticker%: No price data found, symbol may be delisted (1d 2022-01-01 -> 2023-09-10)')\n",
      "/Users/matteozoli/Desktop/VESPER_script/GOLD DIGGER/NEW/downloader.ipynb:81: FutureWarning: The behavior of array concatenation with empty entries is deprecated. In a future version, this will no longer exclude empty items when determining the result dtype. To retain the old behavior, exclude the empty entries before the concat operation.\n",
      "  \"    print(\\\"\\\\nFor the time range:\\\", start_day, \\\" \\\", last_day)\\n\",\n",
      "\n",
      "1 Failed download:\n",
      "['DD.TI']: Exception('%ticker%: No timezone found, symbol may be delisted')\n"
     ]
    },
    {
     "name": "stdout",
     "output_type": "stream",
     "text": [
      "I am downloading: DAN.MI .This is number: 280 out of: 521 . \n",
      "So far I have downloaded properly: 173 stocks\n"
     ]
    },
    {
     "name": "stderr",
     "output_type": "stream",
     "text": [
      "/Users/matteozoli/Desktop/VESPER_script/GOLD DIGGER/NEW/downloader.ipynb:81: FutureWarning: The behavior of array concatenation with empty entries is deprecated. In a future version, this will no longer exclude empty items when determining the result dtype. To retain the old behavior, exclude the empty entries before the concat operation.\n",
      "  \"    print(\\\"\\\\nFor the time range:\\\", start_day, \\\" \\\", last_day)\\n\",\n"
     ]
    },
    {
     "name": "stdout",
     "output_type": "stream",
     "text": [
      "I am downloading: DIA.MI .This is number: 285 out of: 521 . \n",
      "So far I have downloaded properly: 177 stocks\n"
     ]
    },
    {
     "name": "stderr",
     "output_type": "stream",
     "text": [
      "\n",
      "1 Failed download:\n",
      "['DLC.MI']: Exception('%ticker%: No price data found, symbol may be delisted (1d 2022-01-01 -> 2023-09-10)')\n",
      "/Users/matteozoli/Desktop/VESPER_script/GOLD DIGGER/NEW/downloader.ipynb:81: FutureWarning: The behavior of array concatenation with empty entries is deprecated. In a future version, this will no longer exclude empty items when determining the result dtype. To retain the old behavior, exclude the empty entries before the concat operation.\n",
      "  \"    print(\\\"\\\\nFor the time range:\\\", start_day, \\\" \\\", last_day)\\n\",\n",
      "\n",
      "1 Failed download:\n",
      "['DMA.MI']: Exception('%ticker%: No price data found, symbol may be delisted (1d 2022-01-01 -> 2023-09-10)')\n",
      "/Users/matteozoli/Desktop/VESPER_script/GOLD DIGGER/NEW/downloader.ipynb:81: FutureWarning: The behavior of array concatenation with empty entries is deprecated. In a future version, this will no longer exclude empty items when determining the result dtype. To retain the old behavior, exclude the empty entries before the concat operation.\n",
      "  \"    print(\\\"\\\\nFor the time range:\\\", start_day, \\\" \\\", last_day)\\n\",\n",
      "\n",
      "1 Failed download:\n",
      "['DP-U.TI']: Exception('%ticker%: No timezone found, symbol may be delisted')\n",
      "/Users/matteozoli/Desktop/VESPER_script/GOLD DIGGER/NEW/downloader.ipynb:81: FutureWarning: The behavior of array concatenation with empty entries is deprecated. In a future version, this will no longer exclude empty items when determining the result dtype. To retain the old behavior, exclude the empty entries before the concat operation.\n",
      "  \"    print(\\\"\\\\nFor the time range:\\\", start_day, \\\" \\\", last_day)\\n\",\n"
     ]
    },
    {
     "name": "stdout",
     "output_type": "stream",
     "text": [
      "I am downloading: DP-U.TI .This is number: 290 out of: 521 . \n",
      "So far I have downloaded properly: 179 stocks\n"
     ]
    },
    {
     "name": "stderr",
     "output_type": "stream",
     "text": [
      "\n",
      "1 Failed download:\n",
      "['ECA.MI']: Exception('%ticker%: No price data found, symbol may be delisted (1d 2022-01-01 -> 2023-09-10)')\n",
      "/Users/matteozoli/Desktop/VESPER_script/GOLD DIGGER/NEW/downloader.ipynb:81: FutureWarning: The behavior of array concatenation with empty entries is deprecated. In a future version, this will no longer exclude empty items when determining the result dtype. To retain the old behavior, exclude the empty entries before the concat operation.\n",
      "  \"    print(\\\"\\\\nFor the time range:\\\", start_day, \\\" \\\", last_day)\\n\",\n",
      "\n",
      "1 Failed download:\n",
      "['ES.MI']: Exception('%ticker%: No price data found, symbol may be delisted (1d 2022-01-01 -> 2023-09-10)')\n",
      "/Users/matteozoli/Desktop/VESPER_script/GOLD DIGGER/NEW/downloader.ipynb:81: FutureWarning: The behavior of array concatenation with empty entries is deprecated. In a future version, this will no longer exclude empty items when determining the result dtype. To retain the old behavior, exclude the empty entries before the concat operation.\n",
      "  \"    print(\\\"\\\\nFor the time range:\\\", start_day, \\\" \\\", last_day)\\n\",\n"
     ]
    },
    {
     "name": "stdout",
     "output_type": "stream",
     "text": [
      "I am downloading: ECA.MI .This is number: 295 out of: 521 . \n",
      "So far I have downloaded properly: 183 stocks\n"
     ]
    },
    {
     "name": "stderr",
     "output_type": "stream",
     "text": [
      "\n",
      "1 Failed download:\n",
      "['POL.MI']: Exception('%ticker%: No timezone found, symbol may be delisted')\n",
      "/Users/matteozoli/Desktop/VESPER_script/GOLD DIGGER/NEW/downloader.ipynb:81: FutureWarning: The behavior of array concatenation with empty entries is deprecated. In a future version, this will no longer exclude empty items when determining the result dtype. To retain the old behavior, exclude the empty entries before the concat operation.\n",
      "  \"    print(\\\"\\\\nFor the time range:\\\", start_day, \\\" \\\", last_day)\\n\",\n",
      "\n",
      "1 Failed download:\n",
      "['EDF-U.TI']: Exception('%ticker%: No timezone found, symbol may be delisted')\n",
      "/Users/matteozoli/Desktop/VESPER_script/GOLD DIGGER/NEW/downloader.ipynb:81: FutureWarning: The behavior of array concatenation with empty entries is deprecated. In a future version, this will no longer exclude empty items when determining the result dtype. To retain the old behavior, exclude the empty entries before the concat operation.\n",
      "  \"    print(\\\"\\\\nFor the time range:\\\", start_day, \\\" \\\", last_day)\\n\",\n",
      "\n",
      "1 Failed download:\n",
      "['EIT.MI']: Exception('%ticker%: No price data found, symbol may be delisted (1d 2022-01-01 -> 2023-09-10)')\n"
     ]
    },
    {
     "name": "stdout",
     "output_type": "stream",
     "text": [
      "I am downloading: EEMS.MI .This is number: 300 out of: 521 . \n",
      "So far I have downloaded properly: 185 stocks\n"
     ]
    },
    {
     "name": "stderr",
     "output_type": "stream",
     "text": [
      "/Users/matteozoli/Desktop/VESPER_script/GOLD DIGGER/NEW/downloader.ipynb:81: FutureWarning: The behavior of array concatenation with empty entries is deprecated. In a future version, this will no longer exclude empty items when determining the result dtype. To retain the old behavior, exclude the empty entries before the concat operation.\n",
      "  \"    print(\\\"\\\\nFor the time range:\\\", start_day, \\\" \\\", last_day)\\n\",\n",
      "\n",
      "1 Failed download:\n",
      "['ELIN.MI']: Exception('%ticker%: No timezone found, symbol may be delisted')\n"
     ]
    },
    {
     "name": "stdout",
     "output_type": "stream",
     "text": [
      "I am downloading: ELE-U.TI .This is number: 305 out of: 521 . \n",
      "So far I have downloaded properly: 189 stocks\n"
     ]
    },
    {
     "name": "stderr",
     "output_type": "stream",
     "text": [
      "/Users/matteozoli/Desktop/VESPER_script/GOLD DIGGER/NEW/downloader.ipynb:81: FutureWarning: The behavior of array concatenation with empty entries is deprecated. In a future version, this will no longer exclude empty items when determining the result dtype. To retain the old behavior, exclude the empty entries before the concat operation.\n",
      "  \"    print(\\\"\\\\nFor the time range:\\\", start_day, \\\" \\\", last_day)\\n\",\n",
      "\n",
      "1 Failed download:\n",
      "['ELAB.MI']: Exception('%ticker%: No timezone found, symbol may be delisted')\n",
      "/Users/matteozoli/Desktop/VESPER_script/GOLD DIGGER/NEW/downloader.ipynb:81: FutureWarning: The behavior of array concatenation with empty entries is deprecated. In a future version, this will no longer exclude empty items when determining the result dtype. To retain the old behavior, exclude the empty entries before the concat operation.\n",
      "  \"    print(\\\"\\\\nFor the time range:\\\", start_day, \\\" \\\", last_day)\\n\",\n",
      "\n",
      "1 Failed download:\n",
      "['EMC.MI']: Exception('%ticker%: No timezone found, symbol may be delisted')\n",
      "/Users/matteozoli/Desktop/VESPER_script/GOLD DIGGER/NEW/downloader.ipynb:81: FutureWarning: The behavior of array concatenation with empty entries is deprecated. In a future version, this will no longer exclude empty items when determining the result dtype. To retain the old behavior, exclude the empty entries before the concat operation.\n",
      "  \"    print(\\\"\\\\nFor the time range:\\\", start_day, \\\" \\\", last_day)\\n\",\n",
      "\n",
      "1 Failed download:\n",
      "['FTL.MI']: Exception('%ticker%: No timezone found, symbol may be delisted')\n",
      "/Users/matteozoli/Desktop/VESPER_script/GOLD DIGGER/NEW/downloader.ipynb:81: FutureWarning: The behavior of array concatenation with empty entries is deprecated. In a future version, this will no longer exclude empty items when determining the result dtype. To retain the old behavior, exclude the empty entries before the concat operation.\n",
      "  \"    print(\\\"\\\\nFor the time range:\\\", start_day, \\\" \\\", last_day)\\n\",\n"
     ]
    },
    {
     "name": "stdout",
     "output_type": "stream",
     "text": [
      "I am downloading: EMC.MI .This is number: 310 out of: 521 . \n",
      "So far I have downloaded properly: 191 stocks\n",
      "I am downloading: GAS-U.TI .This is number: 315 out of: 521 . \n",
      "So far I have downloaded properly: 195 stocks\n",
      "I am downloading: TEF.TI .This is number: 320 out of: 521 . \n",
      "So far I have downloaded properly: 200 stocks\n"
     ]
    },
    {
     "name": "stderr",
     "output_type": "stream",
     "text": [
      "\n",
      "1 Failed download:\n",
      "['EXSY.MI']: Exception('%ticker%: No timezone found, symbol may be delisted')\n",
      "/Users/matteozoli/Desktop/VESPER_script/GOLD DIGGER/NEW/downloader.ipynb:81: FutureWarning: The behavior of array concatenation with empty entries is deprecated. In a future version, this will no longer exclude empty items when determining the result dtype. To retain the old behavior, exclude the empty entries before the concat operation.\n",
      "  \"    print(\\\"\\\\nFor the time range:\\\", start_day, \\\" \\\", last_day)\\n\",\n",
      "\n",
      "1 Failed download:\n",
      "['FKR.MI']: Exception('%ticker%: No timezone found, symbol may be delisted')\n",
      "/Users/matteozoli/Desktop/VESPER_script/GOLD DIGGER/NEW/downloader.ipynb:81: FutureWarning: The behavior of array concatenation with empty entries is deprecated. In a future version, this will no longer exclude empty items when determining the result dtype. To retain the old behavior, exclude the empty entries before the concat operation.\n",
      "  \"    print(\\\"\\\\nFor the time range:\\\", start_day, \\\" \\\", last_day)\\n\",\n",
      "\n",
      "1 Failed download:\n",
      "['FB-U.TI']: Exception('%ticker%: No timezone found, symbol may be delisted')\n",
      "/Users/matteozoli/Desktop/VESPER_script/GOLD DIGGER/NEW/downloader.ipynb:81: FutureWarning: The behavior of array concatenation with empty entries is deprecated. In a future version, this will no longer exclude empty items when determining the result dtype. To retain the old behavior, exclude the empty entries before the concat operation.\n",
      "  \"    print(\\\"\\\\nFor the time range:\\\", start_day, \\\" \\\", last_day)\\n\",\n"
     ]
    },
    {
     "name": "stdout",
     "output_type": "stream",
     "text": [
      "I am downloading: FKR.MI .This is number: 325 out of: 521 . \n",
      "So far I have downloaded properly: 203 stocks\n"
     ]
    },
    {
     "name": "stderr",
     "output_type": "stream",
     "text": [
      "\n",
      "1 Failed download:\n",
      "['PSF.MI']: Exception('%ticker%: No timezone found, symbol may be delisted')\n",
      "/Users/matteozoli/Desktop/VESPER_script/GOLD DIGGER/NEW/downloader.ipynb:81: FutureWarning: The behavior of array concatenation with empty entries is deprecated. In a future version, this will no longer exclude empty items when determining the result dtype. To retain the old behavior, exclude the empty entries before the concat operation.\n",
      "  \"    print(\\\"\\\\nFor the time range:\\\", start_day, \\\" \\\", last_day)\\n\",\n",
      "\n",
      "1 Failed download:\n",
      "['FED.MI']: Exception('%ticker%: No timezone found, symbol may be delisted')\n"
     ]
    },
    {
     "name": "stdout",
     "output_type": "stream",
     "text": [
      "I am downloading: SFER.MI .This is number: 330 out of: 521 . \n",
      "So far I have downloaded properly: 206 stocks\n"
     ]
    },
    {
     "name": "stderr",
     "output_type": "stream",
     "text": [
      "/Users/matteozoli/Desktop/VESPER_script/GOLD DIGGER/NEW/downloader.ipynb:81: FutureWarning: The behavior of array concatenation with empty entries is deprecated. In a future version, this will no longer exclude empty items when determining the result dtype. To retain the old behavior, exclude the empty entries before the concat operation.\n",
      "  \"    print(\\\"\\\\nFor the time range:\\\", start_day, \\\" \\\", last_day)\\n\",\n"
     ]
    },
    {
     "name": "stdout",
     "output_type": "stream",
     "text": [
      "I am downloading: FM.MI .This is number: 335 out of: 521 . \n",
      "So far I have downloaded properly: 210 stocks\n"
     ]
    },
    {
     "name": "stderr",
     "output_type": "stream",
     "text": [
      "\n",
      "1 Failed download:\n",
      "['GLF.MI']: Exception('%ticker%: No price data found, symbol may be delisted (1d 2022-01-01 -> 2023-09-10)')\n",
      "/Users/matteozoli/Desktop/VESPER_script/GOLD DIGGER/NEW/downloader.ipynb:81: FutureWarning: The behavior of array concatenation with empty entries is deprecated. In a future version, this will no longer exclude empty items when determining the result dtype. To retain the old behavior, exclude the empty entries before the concat operation.\n",
      "  \"    print(\\\"\\\\nFor the time range:\\\", start_day, \\\" \\\", last_day)\\n\",\n"
     ]
    },
    {
     "name": "stdout",
     "output_type": "stream",
     "text": [
      "I am downloading: RNO.MI .This is number: 340 out of: 521 . \n",
      "So far I have downloaded properly: 214 stocks\n"
     ]
    },
    {
     "name": "stderr",
     "output_type": "stream",
     "text": [
      "\n",
      "1 Failed download:\n",
      "['FUL.MI']: Exception('%ticker%: No timezone found, symbol may be delisted')\n"
     ]
    },
    {
     "name": "stdout",
     "output_type": "stream",
     "text": [
      "I am downloading: FTE.TI .This is number: 345 out of: 521 . \n",
      "So far I have downloaded properly: 219 stocks\n"
     ]
    },
    {
     "name": "stderr",
     "output_type": "stream",
     "text": [
      "/Users/matteozoli/Desktop/VESPER_script/GOLD DIGGER/NEW/downloader.ipynb:81: FutureWarning: The behavior of array concatenation with empty entries is deprecated. In a future version, this will no longer exclude empty items when determining the result dtype. To retain the old behavior, exclude the empty entries before the concat operation.\n",
      "  \"    print(\\\"\\\\nFor the time range:\\\", start_day, \\\" \\\", last_day)\\n\",\n",
      "\n",
      "1 Failed download:\n",
      "['GALA.MI']: Exception('%ticker%: No price data found, symbol may be delisted (1d 2022-01-01 -> 2023-09-10)')\n",
      "/Users/matteozoli/Desktop/VESPER_script/GOLD DIGGER/NEW/downloader.ipynb:81: FutureWarning: The behavior of array concatenation with empty entries is deprecated. In a future version, this will no longer exclude empty items when determining the result dtype. To retain the old behavior, exclude the empty entries before the concat operation.\n",
      "  \"    print(\\\"\\\\nFor the time range:\\\", start_day, \\\" \\\", last_day)\\n\",\n"
     ]
    },
    {
     "name": "stdout",
     "output_type": "stream",
     "text": [
      "I am downloading: GEO.MI .This is number: 350 out of: 521 . \n",
      "So far I have downloaded properly: 222 stocks\n"
     ]
    },
    {
     "name": "stderr",
     "output_type": "stream",
     "text": [
      "\n",
      "1 Failed download:\n",
      "['GGTV.MI']: Exception('%ticker%: No timezone found, symbol may be delisted')\n",
      "/Users/matteozoli/Desktop/VESPER_script/GOLD DIGGER/NEW/downloader.ipynb:81: FutureWarning: The behavior of array concatenation with empty entries is deprecated. In a future version, this will no longer exclude empty items when determining the result dtype. To retain the old behavior, exclude the empty entries before the concat operation.\n",
      "  \"    print(\\\"\\\\nFor the time range:\\\", start_day, \\\" \\\", last_day)\\n\",\n",
      "\n",
      "1 Failed download:\n",
      "['PGR.MI']: Exception('%ticker%: No price data found, symbol may be delisted (1d 2022-01-01 -> 2023-09-10)')\n",
      "/Users/matteozoli/Desktop/VESPER_script/GOLD DIGGER/NEW/downloader.ipynb:81: FutureWarning: The behavior of array concatenation with empty entries is deprecated. In a future version, this will no longer exclude empty items when determining the result dtype. To retain the old behavior, exclude the empty entries before the concat operation.\n",
      "  \"    print(\\\"\\\\nFor the time range:\\\", start_day, \\\" \\\", last_day)\\n\",\n"
     ]
    },
    {
     "name": "stdout",
     "output_type": "stream",
     "text": [
      "I am downloading: GGTV.MI .This is number: 355 out of: 521 . \n",
      "So far I have downloaded properly: 226 stocks\n",
      "I am downloading: SGOB-U.TI .This is number: 360 out of: 521 . \n",
      "So far I have downloaded properly: 230 stocks\n",
      "I am downloading: LVMH.MI .This is number: 365 out of: 521 . \n",
      "So far I have downloaded properly: 235 stocks\n"
     ]
    },
    {
     "name": "stderr",
     "output_type": "stream",
     "text": [
      "\n",
      "1 Failed download:\n",
      "['IES.MI']: Exception('%ticker%: No price data found, symbol may be delisted (1d 2022-01-01 -> 2023-09-10)')\n"
     ]
    },
    {
     "name": "stdout",
     "output_type": "stream",
     "text": [
      "I am downloading: IBM-U.TI .This is number: 370 out of: 521 . \n",
      "So far I have downloaded properly: 240 stocks\n"
     ]
    },
    {
     "name": "stderr",
     "output_type": "stream",
     "text": [
      "/Users/matteozoli/Desktop/VESPER_script/GOLD DIGGER/NEW/downloader.ipynb:81: FutureWarning: The behavior of array concatenation with empty entries is deprecated. In a future version, this will no longer exclude empty items when determining the result dtype. To retain the old behavior, exclude the empty entries before the concat operation.\n",
      "  \"    print(\\\"\\\\nFor the time range:\\\", start_day, \\\" \\\", last_day)\\n\",\n",
      "\n",
      "1 Failed download:\n",
      "['IIN.MI']: Exception('%ticker%: No price data found, symbol may be delisted (1d 2022-01-01 -> 2023-09-10)')\n",
      "/Users/matteozoli/Desktop/VESPER_script/GOLD DIGGER/NEW/downloader.ipynb:81: FutureWarning: The behavior of array concatenation with empty entries is deprecated. In a future version, this will no longer exclude empty items when determining the result dtype. To retain the old behavior, exclude the empty entries before the concat operation.\n",
      "  \"    print(\\\"\\\\nFor the time range:\\\", start_day, \\\" \\\", last_day)\\n\",\n",
      "\n",
      "1 Failed download:\n",
      "['IKF.MI']: Exception('%ticker%: No price data found, symbol may be delisted (1d 2022-01-01 -> 2023-09-10)')\n",
      "/Users/matteozoli/Desktop/VESPER_script/GOLD DIGGER/NEW/downloader.ipynb:81: FutureWarning: The behavior of array concatenation with empty entries is deprecated. In a future version, this will no longer exclude empty items when determining the result dtype. To retain the old behavior, exclude the empty entries before the concat operation.\n",
      "  \"    print(\\\"\\\\nFor the time range:\\\", start_day, \\\" \\\", last_day)\\n\",\n",
      "\n",
      "1 Failed download:\n",
      "['IKG.MI']: Exception('%ticker%: No timezone found, symbol may be delisted')\n",
      "/Users/matteozoli/Desktop/VESPER_script/GOLD DIGGER/NEW/downloader.ipynb:81: FutureWarning: The behavior of array concatenation with empty entries is deprecated. In a future version, this will no longer exclude empty items when determining the result dtype. To retain the old behavior, exclude the empty entries before the concat operation.\n",
      "  \"    print(\\\"\\\\nFor the time range:\\\", start_day, \\\" \\\", last_day)\\n\",\n"
     ]
    },
    {
     "name": "stdout",
     "output_type": "stream",
     "text": [
      "I am downloading: IKF.MI .This is number: 375 out of: 521 . \n",
      "So far I have downloaded properly: 242 stocks\n"
     ]
    },
    {
     "name": "stderr",
     "output_type": "stream",
     "text": [
      "\n",
      "1 Failed download:\n",
      "['IMA.MI']: Exception('%ticker%: No timezone found, symbol may be delisted')\n",
      "/Users/matteozoli/Desktop/VESPER_script/GOLD DIGGER/NEW/downloader.ipynb:81: FutureWarning: The behavior of array concatenation with empty entries is deprecated. In a future version, this will no longer exclude empty items when determining the result dtype. To retain the old behavior, exclude the empty entries before the concat operation.\n",
      "  \"    print(\\\"\\\\nFor the time range:\\\", start_day, \\\" \\\", last_day)\\n\",\n",
      "\n",
      "1 Failed download:\n",
      "['SAL.MI']: Exception('%ticker%: No timezone found, symbol may be delisted')\n",
      "/Users/matteozoli/Desktop/VESPER_script/GOLD DIGGER/NEW/downloader.ipynb:81: FutureWarning: The behavior of array concatenation with empty entries is deprecated. In a future version, this will no longer exclude empty items when determining the result dtype. To retain the old behavior, exclude the empty entries before the concat operation.\n",
      "  \"    print(\\\"\\\\nFor the time range:\\\", start_day, \\\" \\\", last_day)\\n\",\n",
      "\n",
      "1 Failed download:\n",
      "['SALR.MI']: Exception('%ticker%: No timezone found, symbol may be delisted')\n",
      "/Users/matteozoli/Desktop/VESPER_script/GOLD DIGGER/NEW/downloader.ipynb:81: FutureWarning: The behavior of array concatenation with empty entries is deprecated. In a future version, this will no longer exclude empty items when determining the result dtype. To retain the old behavior, exclude the empty entries before the concat operation.\n",
      "  \"    print(\\\"\\\\nFor the time range:\\\", start_day, \\\" \\\", last_day)\\n\",\n"
     ]
    },
    {
     "name": "stdout",
     "output_type": "stream",
     "text": [
      "I am downloading: IMS.MI .This is number: 380 out of: 521 . \n",
      "So far I have downloaded properly: 243 stocks\n"
     ]
    },
    {
     "name": "stderr",
     "output_type": "stream",
     "text": [
      "\n",
      "1 Failed download:\n",
      "['ISPR.MI']: Exception('%ticker%: No price data found, symbol may be delisted (1d 2022-01-01 -> 2023-09-10)')\n",
      "/Users/matteozoli/Desktop/VESPER_script/GOLD DIGGER/NEW/downloader.ipynb:81: FutureWarning: The behavior of array concatenation with empty entries is deprecated. In a future version, this will no longer exclude empty items when determining the result dtype. To retain the old behavior, exclude the empty entries before the concat operation.\n",
      "  \"    print(\\\"\\\\nFor the time range:\\\", start_day, \\\" \\\", last_day)\\n\",\n",
      "\n",
      "1 Failed download:\n",
      "['ISG.MI']: Exception('%ticker%: No timezone found, symbol may be delisted')\n"
     ]
    },
    {
     "name": "stdout",
     "output_type": "stream",
     "text": [
      "I am downloading: ISP.MI .This is number: 385 out of: 521 . \n",
      "So far I have downloaded properly: 247 stocks\n"
     ]
    },
    {
     "name": "stderr",
     "output_type": "stream",
     "text": [
      "/Users/matteozoli/Desktop/VESPER_script/GOLD DIGGER/NEW/downloader.ipynb:81: FutureWarning: The behavior of array concatenation with empty entries is deprecated. In a future version, this will no longer exclude empty items when determining the result dtype. To retain the old behavior, exclude the empty entries before the concat operation.\n",
      "  \"    print(\\\"\\\\nFor the time range:\\\", start_day, \\\" \\\", last_day)\\n\",\n",
      "\n",
      "1 Failed download:\n",
      "['ISGS.MI']: Exception('%ticker%: No timezone found, symbol may be delisted')\n",
      "/Users/matteozoli/Desktop/VESPER_script/GOLD DIGGER/NEW/downloader.ipynb:81: FutureWarning: The behavior of array concatenation with empty entries is deprecated. In a future version, this will no longer exclude empty items when determining the result dtype. To retain the old behavior, exclude the empty entries before the concat operation.\n",
      "  \"    print(\\\"\\\\nFor the time range:\\\", start_day, \\\" \\\", last_day)\\n\",\n",
      "\n",
      "1 Failed download:\n",
      "['SRN.MI']: Exception('%ticker%: No price data found, symbol may be delisted (1d 2022-01-01 -> 2023-09-10)')\n",
      "/Users/matteozoli/Desktop/VESPER_script/GOLD DIGGER/NEW/downloader.ipynb:81: FutureWarning: The behavior of array concatenation with empty entries is deprecated. In a future version, this will no longer exclude empty items when determining the result dtype. To retain the old behavior, exclude the empty entries before the concat operation.\n",
      "  \"    print(\\\"\\\\nFor the time range:\\\", start_day, \\\" \\\", last_day)\\n\",\n",
      "\n",
      "1 Failed download:\n",
      "['STEF.MI']: Exception('%ticker%: No timezone found, symbol may be delisted')\n",
      "/Users/matteozoli/Desktop/VESPER_script/GOLD DIGGER/NEW/downloader.ipynb:81: FutureWarning: The behavior of array concatenation with empty entries is deprecated. In a future version, this will no longer exclude empty items when determining the result dtype. To retain the old behavior, exclude the empty entries before the concat operation.\n",
      "  \"    print(\\\"\\\\nFor the time range:\\\", start_day, \\\" \\\", last_day)\\n\",\n"
     ]
    },
    {
     "name": "stdout",
     "output_type": "stream",
     "text": [
      "I am downloading: SRG.MI .This is number: 390 out of: 521 . \n",
      "So far I have downloaded properly: 248 stocks\n"
     ]
    },
    {
     "name": "stderr",
     "output_type": "stream",
     "text": [
      "\n",
      "1 Failed download:\n",
      "['PR.MI']: Exception('%ticker%: No price data found, symbol may be delisted (1d 2022-01-01 -> 2023-09-10)')\n",
      "/Users/matteozoli/Desktop/VESPER_script/GOLD DIGGER/NEW/downloader.ipynb:81: FutureWarning: The behavior of array concatenation with empty entries is deprecated. In a future version, this will no longer exclude empty items when determining the result dtype. To retain the old behavior, exclude the empty entries before the concat operation.\n",
      "  \"    print(\\\"\\\\nFor the time range:\\\", start_day, \\\" \\\", last_day)\\n\",\n",
      "\n",
      "1 Failed download:\n",
      "['IT.MI']: Exception('%ticker%: No price data found, symbol may be delisted (1d 2022-01-01 -> 2023-09-10)')\n",
      "/Users/matteozoli/Desktop/VESPER_script/GOLD DIGGER/NEW/downloader.ipynb:81: FutureWarning: The behavior of array concatenation with empty entries is deprecated. In a future version, this will no longer exclude empty items when determining the result dtype. To retain the old behavior, exclude the empty entries before the concat operation.\n",
      "  \"    print(\\\"\\\\nFor the time range:\\\", start_day, \\\" \\\", last_day)\\n\",\n",
      "\n",
      "1 Failed download:\n",
      "['COF.MI']: Exception('%ticker%: No timezone found, symbol may be delisted')\n",
      "/Users/matteozoli/Desktop/VESPER_script/GOLD DIGGER/NEW/downloader.ipynb:81: FutureWarning: The behavior of array concatenation with empty entries is deprecated. In a future version, this will no longer exclude empty items when determining the result dtype. To retain the old behavior, exclude the empty entries before the concat operation.\n",
      "  \"    print(\\\"\\\\nFor the time range:\\\", start_day, \\\" \\\", last_day)\\n\",\n"
     ]
    },
    {
     "name": "stdout",
     "output_type": "stream",
     "text": [
      "I am downloading: IT.MI .This is number: 395 out of: 521 . \n",
      "So far I have downloaded properly: 251 stocks\n"
     ]
    },
    {
     "name": "stderr",
     "output_type": "stream",
     "text": [
      "\n",
      "1 Failed download:\n",
      "['TME.MI']: Exception('%ticker%: No price data found, symbol may be delisted (1d 2022-01-01 -> 2023-09-10)')\n",
      "/Users/matteozoli/Desktop/VESPER_script/GOLD DIGGER/NEW/downloader.ipynb:81: FutureWarning: The behavior of array concatenation with empty entries is deprecated. In a future version, this will no longer exclude empty items when determining the result dtype. To retain the old behavior, exclude the empty entries before the concat operation.\n",
      "  \"    print(\\\"\\\\nFor the time range:\\\", start_day, \\\" \\\", last_day)\\n\",\n",
      "\n",
      "1 Failed download:\n",
      "['TIS.MI']: Exception('%ticker%: No timezone found, symbol may be delisted')\n"
     ]
    },
    {
     "name": "stdout",
     "output_type": "stream",
     "text": [
      "I am downloading: TIT.MI .This is number: 400 out of: 521 . \n",
      "So far I have downloaded properly: 254 stocks\n"
     ]
    },
    {
     "name": "stderr",
     "output_type": "stream",
     "text": [
      "/Users/matteozoli/Desktop/VESPER_script/GOLD DIGGER/NEW/downloader.ipynb:81: FutureWarning: The behavior of array concatenation with empty entries is deprecated. In a future version, this will no longer exclude empty items when determining the result dtype. To retain the old behavior, exclude the empty entries before the concat operation.\n",
      "  \"    print(\\\"\\\\nFor the time range:\\\", start_day, \\\" \\\", last_day)\\n\",\n"
     ]
    },
    {
     "name": "stdout",
     "output_type": "stream",
     "text": [
      "I am downloading: SPM.MI .This is number: 405 out of: 521 . \n",
      "So far I have downloaded properly: 258 stocks\n"
     ]
    },
    {
     "name": "stderr",
     "output_type": "stream",
     "text": [
      "\n",
      "1 Failed download:\n",
      "['SAVE.MI']: Exception('%ticker%: No price data found, symbol may be delisted (1d 2022-01-01 -> 2023-09-10)')\n",
      "/Users/matteozoli/Desktop/VESPER_script/GOLD DIGGER/NEW/downloader.ipynb:81: FutureWarning: The behavior of array concatenation with empty entries is deprecated. In a future version, this will no longer exclude empty items when determining the result dtype. To retain the old behavior, exclude the empty entries before the concat operation.\n",
      "  \"    print(\\\"\\\\nFor the time range:\\\", start_day, \\\" \\\", last_day)\\n\",\n",
      "\n",
      "1 Failed download:\n",
      "['MS.MI']: Exception('%ticker%: No timezone found, symbol may be delisted')\n"
     ]
    },
    {
     "name": "stdout",
     "output_type": "stream",
     "text": [
      "I am downloading: PRL.MI .This is number: 410 out of: 521 . \n",
      "So far I have downloaded properly: 262 stocks\n"
     ]
    },
    {
     "name": "stderr",
     "output_type": "stream",
     "text": [
      "/Users/matteozoli/Desktop/VESPER_script/GOLD DIGGER/NEW/downloader.ipynb:81: FutureWarning: The behavior of array concatenation with empty entries is deprecated. In a future version, this will no longer exclude empty items when determining the result dtype. To retain the old behavior, exclude the empty entries before the concat operation.\n",
      "  \"    print(\\\"\\\\nFor the time range:\\\", start_day, \\\" \\\", last_day)\\n\",\n",
      "\n",
      "1 Failed download:\n",
      "['MLM.MI']: Exception('%ticker%: No timezone found, symbol may be delisted')\n",
      "/Users/matteozoli/Desktop/VESPER_script/GOLD DIGGER/NEW/downloader.ipynb:81: FutureWarning: The behavior of array concatenation with empty entries is deprecated. In a future version, this will no longer exclude empty items when determining the result dtype. To retain the old behavior, exclude the empty entries before the concat operation.\n",
      "  \"    print(\\\"\\\\nFor the time range:\\\", start_day, \\\" \\\", last_day)\\n\",\n",
      "\n",
      "1 Failed download:\n",
      "['MCH.MI']: Exception('%ticker%: No timezone found, symbol may be delisted')\n",
      "/Users/matteozoli/Desktop/VESPER_script/GOLD DIGGER/NEW/downloader.ipynb:81: FutureWarning: The behavior of array concatenation with empty entries is deprecated. In a future version, this will no longer exclude empty items when determining the result dtype. To retain the old behavior, exclude the empty entries before the concat operation.\n",
      "  \"    print(\\\"\\\\nFor the time range:\\\", start_day, \\\" \\\", last_day)\\n\",\n",
      "\n",
      "1 Failed download:\n",
      "['IND.MI']: Exception('%ticker%: No price data found, symbol may be delisted (1d 2022-01-01 -> 2023-09-10)')\n"
     ]
    },
    {
     "name": "stdout",
     "output_type": "stream",
     "text": [
      "I am downloading: ITM.MI .This is number: 415 out of: 521 . \n",
      "So far I have downloaded properly: 264 stocks\n"
     ]
    },
    {
     "name": "stderr",
     "output_type": "stream",
     "text": [
      "/Users/matteozoli/Desktop/VESPER_script/GOLD DIGGER/NEW/downloader.ipynb:81: FutureWarning: The behavior of array concatenation with empty entries is deprecated. In a future version, this will no longer exclude empty items when determining the result dtype. To retain the old behavior, exclude the empty entries before the concat operation.\n",
      "  \"    print(\\\"\\\\nFor the time range:\\\", start_day, \\\" \\\", last_day)\\n\",\n",
      "\n",
      "1 Failed download:\n",
      "['COV.MI']: Exception('%ticker%: No timezone found, symbol may be delisted')\n",
      "/Users/matteozoli/Desktop/VESPER_script/GOLD DIGGER/NEW/downloader.ipynb:81: FutureWarning: The behavior of array concatenation with empty entries is deprecated. In a future version, this will no longer exclude empty items when determining the result dtype. To retain the old behavior, exclude the empty entries before the concat operation.\n",
      "  \"    print(\\\"\\\\nFor the time range:\\\", start_day, \\\" \\\", last_day)\\n\",\n",
      "\n",
      "1 Failed download:\n",
      "['LIT.MI']: Exception('%ticker%: No timezone found, symbol may be delisted')\n",
      "/Users/matteozoli/Desktop/VESPER_script/GOLD DIGGER/NEW/downloader.ipynb:81: FutureWarning: The behavior of array concatenation with empty entries is deprecated. In a future version, this will no longer exclude empty items when determining the result dtype. To retain the old behavior, exclude the empty entries before the concat operation.\n",
      "  \"    print(\\\"\\\\nFor the time range:\\\", start_day, \\\" \\\", last_day)\\n\",\n",
      "\n",
      "1 Failed download:\n",
      "['PLTE.MI']: Exception('%ticker%: No timezone found, symbol may be delisted')\n",
      "/Users/matteozoli/Desktop/VESPER_script/GOLD DIGGER/NEW/downloader.ipynb:81: FutureWarning: The behavior of array concatenation with empty entries is deprecated. In a future version, this will no longer exclude empty items when determining the result dtype. To retain the old behavior, exclude the empty entries before the concat operation.\n",
      "  \"    print(\\\"\\\\nFor the time range:\\\", start_day, \\\" \\\", last_day)\\n\",\n"
     ]
    },
    {
     "name": "stdout",
     "output_type": "stream",
     "text": [
      "I am downloading: PLTE.MI .This is number: 420 out of: 521 . \n",
      "So far I have downloaded properly: 265 stocks\n"
     ]
    },
    {
     "name": "stderr",
     "output_type": "stream",
     "text": [
      "\n",
      "1 Failed download:\n",
      "['MEC.MI']: Exception('%ticker%: No timezone found, symbol may be delisted')\n",
      "/Users/matteozoli/Desktop/VESPER_script/GOLD DIGGER/NEW/downloader.ipynb:81: FutureWarning: The behavior of array concatenation with empty entries is deprecated. In a future version, this will no longer exclude empty items when determining the result dtype. To retain the old behavior, exclude the empty entries before the concat operation.\n",
      "  \"    print(\\\"\\\\nFor the time range:\\\", start_day, \\\" \\\", last_day)\\n\",\n",
      "\n",
      "1 Failed download:\n",
      "['SPA2.MI']: Exception('%ticker%: No price data found, symbol may be delisted (1d 2022-01-01 -> 2023-09-10)')\n",
      "/Users/matteozoli/Desktop/VESPER_script/GOLD DIGGER/NEW/downloader.ipynb:81: FutureWarning: The behavior of array concatenation with empty entries is deprecated. In a future version, this will no longer exclude empty items when determining the result dtype. To retain the old behavior, exclude the empty entries before the concat operation.\n",
      "  \"    print(\\\"\\\\nFor the time range:\\\", start_day, \\\" \\\", last_day)\\n\",\n",
      "\n",
      "1 Failed download:\n",
      "['ITMR.MI']: Exception('%ticker%: No price data found, symbol may be delisted (1d 2022-01-01 -> 2023-09-10)')\n",
      "/Users/matteozoli/Desktop/VESPER_script/GOLD DIGGER/NEW/downloader.ipynb:81: FutureWarning: The behavior of array concatenation with empty entries is deprecated. In a future version, this will no longer exclude empty items when determining the result dtype. To retain the old behavior, exclude the empty entries before the concat operation.\n",
      "  \"    print(\\\"\\\\nFor the time range:\\\", start_day, \\\" \\\", last_day)\\n\",\n",
      "\n",
      "1 Failed download:\n",
      "['SII.MI']: Exception('%ticker%: No price data found, symbol may be delisted (1d 2022-01-01 -> 2023-09-10)')\n",
      "/Users/matteozoli/Desktop/VESPER_script/GOLD DIGGER/NEW/downloader.ipynb:81: FutureWarning: The behavior of array concatenation with empty entries is deprecated. In a future version, this will no longer exclude empty items when determining the result dtype. To retain the old behavior, exclude the empty entries before the concat operation.\n",
      "  \"    print(\\\"\\\\nFor the time range:\\\", start_day, \\\" \\\", last_day)\\n\",\n",
      "\n",
      "1 Failed download:\n",
      "['USRB.MI']: Exception('%ticker%: No price data found, symbol may be delisted (1d 2022-01-01 -> 2023-09-10)')\n",
      "/Users/matteozoli/Desktop/VESPER_script/GOLD DIGGER/NEW/downloader.ipynb:81: FutureWarning: The behavior of array concatenation with empty entries is deprecated. In a future version, this will no longer exclude empty items when determining the result dtype. To retain the old behavior, exclude the empty entries before the concat operation.\n",
      "  \"    print(\\\"\\\\nFor the time range:\\\", start_day, \\\" \\\", last_day)\\n\",\n"
     ]
    },
    {
     "name": "stdout",
     "output_type": "stream",
     "text": [
      "I am downloading: SII.MI .This is number: 425 out of: 521 . \n",
      "So far I have downloaded properly: 266 stocks\n"
     ]
    },
    {
     "name": "stderr",
     "output_type": "stream",
     "text": [
      "\n",
      "1 Failed download:\n",
      "['CAD.MI']: Exception('%ticker%: No price data found, symbol may be delisted (1d 2022-01-01 -> 2023-09-10)')\n",
      "/Users/matteozoli/Desktop/VESPER_script/GOLD DIGGER/NEW/downloader.ipynb:81: FutureWarning: The behavior of array concatenation with empty entries is deprecated. In a future version, this will no longer exclude empty items when determining the result dtype. To retain the old behavior, exclude the empty entries before the concat operation.\n",
      "  \"    print(\\\"\\\\nFor the time range:\\\", start_day, \\\" \\\", last_day)\\n\",\n",
      "\n",
      "1 Failed download:\n",
      "['ENG.MI']: Exception('%ticker%: No price data found, symbol may be delisted (1d 2022-01-01 -> 2023-09-10)')\n",
      "/Users/matteozoli/Desktop/VESPER_script/GOLD DIGGER/NEW/downloader.ipynb:81: FutureWarning: The behavior of array concatenation with empty entries is deprecated. In a future version, this will no longer exclude empty items when determining the result dtype. To retain the old behavior, exclude the empty entries before the concat operation.\n",
      "  \"    print(\\\"\\\\nFor the time range:\\\", start_day, \\\" \\\", last_day)\\n\",\n",
      "\n",
      "1 Failed download:\n",
      "['NOE.MI']: Exception('%ticker%: No price data found, symbol may be delisted (1d 2022-01-01 -> 2023-09-10)')\n",
      "/Users/matteozoli/Desktop/VESPER_script/GOLD DIGGER/NEW/downloader.ipynb:81: FutureWarning: The behavior of array concatenation with empty entries is deprecated. In a future version, this will no longer exclude empty items when determining the result dtype. To retain the old behavior, exclude the empty entries before the concat operation.\n",
      "  \"    print(\\\"\\\\nFor the time range:\\\", start_day, \\\" \\\", last_day)\\n\",\n"
     ]
    },
    {
     "name": "stdout",
     "output_type": "stream",
     "text": [
      "I am downloading: MTV.MI .This is number: 430 out of: 521 . \n",
      "So far I have downloaded properly: 267 stocks\n"
     ]
    },
    {
     "name": "stderr",
     "output_type": "stream",
     "text": [
      "\n",
      "1 Failed download:\n",
      "['SITI.MI']: Exception('%ticker%: No timezone found, symbol may be delisted')\n",
      "/Users/matteozoli/Desktop/VESPER_script/GOLD DIGGER/NEW/downloader.ipynb:81: FutureWarning: The behavior of array concatenation with empty entries is deprecated. In a future version, this will no longer exclude empty items when determining the result dtype. To retain the old behavior, exclude the empty entries before the concat operation.\n",
      "  \"    print(\\\"\\\\nFor the time range:\\\", start_day, \\\" \\\", last_day)\\n\",\n",
      "\n",
      "1 Failed download:\n",
      "['DEA.MI']: Exception('%ticker%: No timezone found, symbol may be delisted')\n",
      "/Users/matteozoli/Desktop/VESPER_script/GOLD DIGGER/NEW/downloader.ipynb:81: FutureWarning: The behavior of array concatenation with empty entries is deprecated. In a future version, this will no longer exclude empty items when determining the result dtype. To retain the old behavior, exclude the empty entries before the concat operation.\n",
      "  \"    print(\\\"\\\\nFor the time range:\\\", start_day, \\\" \\\", last_day)\\n\",\n",
      "\n",
      "1 Failed download:\n",
      "['MBY.MI']: Exception('%ticker%: No price data found, symbol may be delisted (1d 2022-01-01 -> 2023-09-10)')\n",
      "/Users/matteozoli/Desktop/VESPER_script/GOLD DIGGER/NEW/downloader.ipynb:81: FutureWarning: The behavior of array concatenation with empty entries is deprecated. In a future version, this will no longer exclude empty items when determining the result dtype. To retain the old behavior, exclude the empty entries before the concat operation.\n",
      "  \"    print(\\\"\\\\nFor the time range:\\\", start_day, \\\" \\\", last_day)\\n\",\n",
      "\n",
      "1 Failed download:\n",
      "['PRI.MI']: Exception('%ticker%: No timezone found, symbol may be delisted')\n",
      "/Users/matteozoli/Desktop/VESPER_script/GOLD DIGGER/NEW/downloader.ipynb:81: FutureWarning: The behavior of array concatenation with empty entries is deprecated. In a future version, this will no longer exclude empty items when determining the result dtype. To retain the old behavior, exclude the empty entries before the concat operation.\n",
      "  \"    print(\\\"\\\\nFor the time range:\\\", start_day, \\\" \\\", last_day)\\n\",\n"
     ]
    },
    {
     "name": "stdout",
     "output_type": "stream",
     "text": [
      "I am downloading: PRI.MI .This is number: 435 out of: 521 . \n",
      "So far I have downloaded properly: 268 stocks\n"
     ]
    },
    {
     "name": "stderr",
     "output_type": "stream",
     "text": [
      "\n",
      "1 Failed download:\n",
      "['PITE.MI']: Exception('%ticker%: No timezone found, symbol may be delisted')\n",
      "/Users/matteozoli/Desktop/VESPER_script/GOLD DIGGER/NEW/downloader.ipynb:81: FutureWarning: The behavior of array concatenation with empty entries is deprecated. In a future version, this will no longer exclude empty items when determining the result dtype. To retain the old behavior, exclude the empty entries before the concat operation.\n",
      "  \"    print(\\\"\\\\nFor the time range:\\\", start_day, \\\" \\\", last_day)\\n\",\n",
      "\n",
      "1 Failed download:\n",
      "['ROS.MI']: Exception('%ticker%: No timezone found, symbol may be delisted')\n",
      "/Users/matteozoli/Desktop/VESPER_script/GOLD DIGGER/NEW/downloader.ipynb:81: FutureWarning: The behavior of array concatenation with empty entries is deprecated. In a future version, this will no longer exclude empty items when determining the result dtype. To retain the old behavior, exclude the empty entries before the concat operation.\n",
      "  \"    print(\\\"\\\\nFor the time range:\\\", start_day, \\\" \\\", last_day)\\n\",\n",
      "\n",
      "1 Failed download:\n",
      "['TBM.MI']: Exception('%ticker%: No price data found, symbol may be delisted (1d 2022-01-01 -> 2023-09-10)')\n",
      "/Users/matteozoli/Desktop/VESPER_script/GOLD DIGGER/NEW/downloader.ipynb:81: FutureWarning: The behavior of array concatenation with empty entries is deprecated. In a future version, this will no longer exclude empty items when determining the result dtype. To retain the old behavior, exclude the empty entries before the concat operation.\n",
      "  \"    print(\\\"\\\\nFor the time range:\\\", start_day, \\\" \\\", last_day)\\n\",\n"
     ]
    },
    {
     "name": "stdout",
     "output_type": "stream",
     "text": [
      "I am downloading: ROS.MI .This is number: 440 out of: 521 . \n",
      "So far I have downloaded properly: 271 stocks\n"
     ]
    },
    {
     "name": "stderr",
     "output_type": "stream",
     "text": [
      "\n",
      "1 Failed download:\n",
      "['UNIP.MI']: Exception('%ticker%: No price data found, symbol may be delisted (1d 2022-01-01 -> 2023-09-10)')\n",
      "/Users/matteozoli/Desktop/VESPER_script/GOLD DIGGER/NEW/downloader.ipynb:81: FutureWarning: The behavior of array concatenation with empty entries is deprecated. In a future version, this will no longer exclude empty items when determining the result dtype. To retain the old behavior, exclude the empty entries before the concat operation.\n",
      "  \"    print(\\\"\\\\nFor the time range:\\\", start_day, \\\" \\\", last_day)\\n\",\n",
      "\n",
      "1 Failed download:\n",
      "['MAIL.MI']: Exception('%ticker%: No timezone found, symbol may be delisted')\n",
      "/Users/matteozoli/Desktop/VESPER_script/GOLD DIGGER/NEW/downloader.ipynb:81: FutureWarning: The behavior of array concatenation with empty entries is deprecated. In a future version, this will no longer exclude empty items when determining the result dtype. To retain the old behavior, exclude the empty entries before the concat operation.\n",
      "  \"    print(\\\"\\\\nFor the time range:\\\", start_day, \\\" \\\", last_day)\\n\",\n",
      "\n",
      "1 Failed download:\n",
      "['TBS.MI']: Exception('%ticker%: No price data found, symbol may be delisted (1d 2022-01-01 -> 2023-09-10)')\n",
      "/Users/matteozoli/Desktop/VESPER_script/GOLD DIGGER/NEW/downloader.ipynb:81: FutureWarning: The behavior of array concatenation with empty entries is deprecated. In a future version, this will no longer exclude empty items when determining the result dtype. To retain the old behavior, exclude the empty entries before the concat operation.\n",
      "  \"    print(\\\"\\\\nFor the time range:\\\", start_day, \\\" \\\", last_day)\\n\",\n",
      "\n",
      "1 Failed download:\n",
      "['SNA.MI']: Exception('%ticker%: No price data found, symbol may be delisted (1d 2022-01-01 -> 2023-09-10)')\n",
      "/Users/matteozoli/Desktop/VESPER_script/GOLD DIGGER/NEW/downloader.ipynb:81: FutureWarning: The behavior of array concatenation with empty entries is deprecated. In a future version, this will no longer exclude empty items when determining the result dtype. To retain the old behavior, exclude the empty entries before the concat operation.\n",
      "  \"    print(\\\"\\\\nFor the time range:\\\", start_day, \\\" \\\", last_day)\\n\",\n"
     ]
    },
    {
     "name": "stdout",
     "output_type": "stream",
     "text": [
      "I am downloading: TBS.MI .This is number: 445 out of: 521 . \n",
      "So far I have downloaded properly: 272 stocks\n"
     ]
    },
    {
     "name": "stderr",
     "output_type": "stream",
     "text": [
      "\n",
      "1 Failed download:\n",
      "['MTH.MI']: Exception('%ticker%: No price data found, symbol may be delisted (1d 2022-01-01 -> 2023-09-10)')\n",
      "/Users/matteozoli/Desktop/VESPER_script/GOLD DIGGER/NEW/downloader.ipynb:81: FutureWarning: The behavior of array concatenation with empty entries is deprecated. In a future version, this will no longer exclude empty items when determining the result dtype. To retain the old behavior, exclude the empty entries before the concat operation.\n",
      "  \"    print(\\\"\\\\nFor the time range:\\\", start_day, \\\" \\\", last_day)\\n\",\n",
      "\n",
      "1 Failed download:\n",
      "['PRS.MI']: Exception('%ticker%: No price data found, symbol may be delisted (1d 2022-01-01 -> 2023-09-10)')\n",
      "/Users/matteozoli/Desktop/VESPER_script/GOLD DIGGER/NEW/downloader.ipynb:81: FutureWarning: The behavior of array concatenation with empty entries is deprecated. In a future version, this will no longer exclude empty items when determining the result dtype. To retain the old behavior, exclude the empty entries before the concat operation.\n",
      "  \"    print(\\\"\\\\nFor the time range:\\\", start_day, \\\" \\\", last_day)\\n\",\n"
     ]
    },
    {
     "name": "stdout",
     "output_type": "stream",
     "text": [
      "I am downloading: TES.MI .This is number: 450 out of: 521 . \n",
      "So far I have downloaded properly: 274 stocks\n"
     ]
    },
    {
     "name": "stderr",
     "output_type": "stream",
     "text": [
      "\n",
      "1 Failed download:\n",
      "['SB.MI']: Exception('%ticker%: No timezone found, symbol may be delisted')\n",
      "/Users/matteozoli/Desktop/VESPER_script/GOLD DIGGER/NEW/downloader.ipynb:81: FutureWarning: The behavior of array concatenation with empty entries is deprecated. In a future version, this will no longer exclude empty items when determining the result dtype. To retain the old behavior, exclude the empty entries before the concat operation.\n",
      "  \"    print(\\\"\\\\nFor the time range:\\\", start_day, \\\" \\\", last_day)\\n\",\n",
      "\n",
      "1 Failed download:\n",
      "['VLA.MI']: Exception('%ticker%: No price data found, symbol may be delisted (1d 2022-01-01 -> 2023-09-10)')\n",
      "/Users/matteozoli/Desktop/VESPER_script/GOLD DIGGER/NEW/downloader.ipynb:81: FutureWarning: The behavior of array concatenation with empty entries is deprecated. In a future version, this will no longer exclude empty items when determining the result dtype. To retain the old behavior, exclude the empty entries before the concat operation.\n",
      "  \"    print(\\\"\\\\nFor the time range:\\\", start_day, \\\" \\\", last_day)\\n\",\n",
      "\n",
      "1 Failed download:\n",
      "['MBR.MI']: Exception('%ticker%: No price data found, symbol may be delisted (1d 2022-01-01 -> 2023-09-10)')\n"
     ]
    },
    {
     "name": "stdout",
     "output_type": "stream",
     "text": [
      "I am downloading: TER.MI .This is number: 455 out of: 521 . \n",
      "So far I have downloaded properly: 277 stocks\n"
     ]
    },
    {
     "name": "stderr",
     "output_type": "stream",
     "text": [
      "/Users/matteozoli/Desktop/VESPER_script/GOLD DIGGER/NEW/downloader.ipynb:81: FutureWarning: The behavior of array concatenation with empty entries is deprecated. In a future version, this will no longer exclude empty items when determining the result dtype. To retain the old behavior, exclude the empty entries before the concat operation.\n",
      "  \"    print(\\\"\\\\nFor the time range:\\\", start_day, \\\" \\\", last_day)\\n\",\n",
      "\n",
      "1 Failed download:\n",
      "['KRE.MI']: Exception('%ticker%: No price data found, symbol may be delisted (1d 2022-01-01 -> 2023-09-10)')\n",
      "/Users/matteozoli/Desktop/VESPER_script/GOLD DIGGER/NEW/downloader.ipynb:81: FutureWarning: The behavior of array concatenation with empty entries is deprecated. In a future version, this will no longer exclude empty items when determining the result dtype. To retain the old behavior, exclude the empty entries before the concat operation.\n",
      "  \"    print(\\\"\\\\nFor the time range:\\\", start_day, \\\" \\\", last_day)\\n\",\n",
      "\n",
      "1 Failed download:\n",
      "['MCK.MI']: Exception('%ticker%: No price data found, symbol may be delisted (1d 2022-01-01 -> 2023-09-10)')\n",
      "/Users/matteozoli/Desktop/VESPER_script/GOLD DIGGER/NEW/downloader.ipynb:81: FutureWarning: The behavior of array concatenation with empty entries is deprecated. In a future version, this will no longer exclude empty items when determining the result dtype. To retain the old behavior, exclude the empty entries before the concat operation.\n",
      "  \"    print(\\\"\\\\nFor the time range:\\\", start_day, \\\" \\\", last_day)\\n\",\n",
      "\n",
      "1 Failed download:\n",
      "['ME.MI']: Exception('%ticker%: No price data found, symbol may be delisted (1d 2022-01-01 -> 2023-09-10)')\n",
      "/Users/matteozoli/Desktop/VESPER_script/GOLD DIGGER/NEW/downloader.ipynb:81: FutureWarning: The behavior of array concatenation with empty entries is deprecated. In a future version, this will no longer exclude empty items when determining the result dtype. To retain the old behavior, exclude the empty entries before the concat operation.\n",
      "  \"    print(\\\"\\\\nFor the time range:\\\", start_day, \\\" \\\", last_day)\\n\",\n",
      "\n",
      "1 Failed download:\n",
      "['MSP.MI']: Exception('%ticker%: No timezone found, symbol may be delisted')\n",
      "/Users/matteozoli/Desktop/VESPER_script/GOLD DIGGER/NEW/downloader.ipynb:81: FutureWarning: The behavior of array concatenation with empty entries is deprecated. In a future version, this will no longer exclude empty items when determining the result dtype. To retain the old behavior, exclude the empty entries before the concat operation.\n",
      "  \"    print(\\\"\\\\nFor the time range:\\\", start_day, \\\" \\\", last_day)\\n\",\n"
     ]
    },
    {
     "name": "stdout",
     "output_type": "stream",
     "text": [
      "I am downloading: ME.MI .This is number: 460 out of: 521 . \n",
      "So far I have downloaded properly: 278 stocks\n"
     ]
    },
    {
     "name": "stderr",
     "output_type": "stream",
     "text": [
      "\n",
      "1 Failed download:\n",
      "['PCP.MI']: Exception('%ticker%: No price data found, symbol may be delisted (1d 2022-01-01 -> 2023-09-10)')\n",
      "/Users/matteozoli/Desktop/VESPER_script/GOLD DIGGER/NEW/downloader.ipynb:81: FutureWarning: The behavior of array concatenation with empty entries is deprecated. In a future version, this will no longer exclude empty items when determining the result dtype. To retain the old behavior, exclude the empty entries before the concat operation.\n",
      "  \"    print(\\\"\\\\nFor the time range:\\\", start_day, \\\" \\\", last_day)\\n\",\n",
      "\n",
      "1 Failed download:\n",
      "['TECN.MI']: Exception('%ticker%: No price data found, symbol may be delisted (1d 2022-01-01 -> 2023-09-10)')\n",
      "/Users/matteozoli/Desktop/VESPER_script/GOLD DIGGER/NEW/downloader.ipynb:81: FutureWarning: The behavior of array concatenation with empty entries is deprecated. In a future version, this will no longer exclude empty items when determining the result dtype. To retain the old behavior, exclude the empty entries before the concat operation.\n",
      "  \"    print(\\\"\\\\nFor the time range:\\\", start_day, \\\" \\\", last_day)\\n\",\n",
      "\n",
      "1 Failed download:\n",
      "['RM.MI']: Exception('%ticker%: No timezone found, symbol may be delisted')\n",
      "/Users/matteozoli/Desktop/VESPER_script/GOLD DIGGER/NEW/downloader.ipynb:81: FutureWarning: The behavior of array concatenation with empty entries is deprecated. In a future version, this will no longer exclude empty items when determining the result dtype. To retain the old behavior, exclude the empty entries before the concat operation.\n",
      "  \"    print(\\\"\\\\nFor the time range:\\\", start_day, \\\" \\\", last_day)\\n\",\n"
     ]
    },
    {
     "name": "stdout",
     "output_type": "stream",
     "text": [
      "I am downloading: TECN.MI .This is number: 465 out of: 521 . \n",
      "So far I have downloaded properly: 280 stocks\n"
     ]
    },
    {
     "name": "stderr",
     "output_type": "stream",
     "text": [
      "\n",
      "1 Failed download:\n",
      "['WIG.MI']: Exception('%ticker%: No price data found, symbol may be delisted (1d 2022-01-01 -> 2023-09-10)')\n"
     ]
    },
    {
     "name": "stdout",
     "output_type": "stream",
     "text": [
      "I am downloading: IWB.MI .This is number: 470 out of: 521 . \n",
      "So far I have downloaded properly: 284 stocks\n"
     ]
    },
    {
     "name": "stderr",
     "output_type": "stream",
     "text": [
      "/Users/matteozoli/Desktop/VESPER_script/GOLD DIGGER/NEW/downloader.ipynb:81: FutureWarning: The behavior of array concatenation with empty entries is deprecated. In a future version, this will no longer exclude empty items when determining the result dtype. To retain the old behavior, exclude the empty entries before the concat operation.\n",
      "  \"    print(\\\"\\\\nFor the time range:\\\", start_day, \\\" \\\", last_day)\\n\",\n",
      "\n",
      "1 Failed download:\n",
      "['VIN.MI']: Exception('%ticker%: No price data found, symbol may be delisted (1d 2022-01-01 -> 2023-09-10)')\n",
      "/Users/matteozoli/Desktop/VESPER_script/GOLD DIGGER/NEW/downloader.ipynb:81: FutureWarning: The behavior of array concatenation with empty entries is deprecated. In a future version, this will no longer exclude empty items when determining the result dtype. To retain the old behavior, exclude the empty entries before the concat operation.\n",
      "  \"    print(\\\"\\\\nFor the time range:\\\", start_day, \\\" \\\", last_day)\\n\",\n"
     ]
    },
    {
     "name": "stdout",
     "output_type": "stream",
     "text": [
      "I am downloading: ITW.MI .This is number: 475 out of: 521 . \n",
      "So far I have downloaded properly: 287 stocks\n"
     ]
    },
    {
     "name": "stderr",
     "output_type": "stream",
     "text": [
      "\n",
      "1 Failed download:\n",
      "['SSB.MI']: Exception('%ticker%: No price data found, symbol may be delisted (1d 2022-01-01 -> 2023-09-10)')\n",
      "/Users/matteozoli/Desktop/VESPER_script/GOLD DIGGER/NEW/downloader.ipynb:81: FutureWarning: The behavior of array concatenation with empty entries is deprecated. In a future version, this will no longer exclude empty items when determining the result dtype. To retain the old behavior, exclude the empty entries before the concat operation.\n",
      "  \"    print(\\\"\\\\nFor the time range:\\\", start_day, \\\" \\\", last_day)\\n\",\n"
     ]
    },
    {
     "name": "stdout",
     "output_type": "stream",
     "text": [
      "I am downloading: JNJ-U.TI .This is number: 480 out of: 521 . \n",
      "So far I have downloaded properly: 291 stocks\n"
     ]
    },
    {
     "name": "stderr",
     "output_type": "stream",
     "text": [
      "\n",
      "1 Failed download:\n",
      "['TEW.MI']: Exception('%ticker%: No price data found, symbol may be delisted (1d 2022-01-01 -> 2023-09-10)')\n",
      "/Users/matteozoli/Desktop/VESPER_script/GOLD DIGGER/NEW/downloader.ipynb:81: FutureWarning: The behavior of array concatenation with empty entries is deprecated. In a future version, this will no longer exclude empty items when determining the result dtype. To retain the old behavior, exclude the empty entries before the concat operation.\n",
      "  \"    print(\\\"\\\\nFor the time range:\\\", start_day, \\\" \\\", last_day)\\n\",\n",
      "\n",
      "1 Failed download:\n",
      "['MANG-U.TI']: Exception('%ticker%: No timezone found, symbol may be delisted')\n"
     ]
    },
    {
     "name": "stdout",
     "output_type": "stream",
     "text": [
      "I am downloading: LVMH.TI .This is number: 485 out of: 521 . \n",
      "So far I have downloaded properly: 295 stocks\n"
     ]
    },
    {
     "name": "stderr",
     "output_type": "stream",
     "text": [
      "/Users/matteozoli/Desktop/VESPER_script/GOLD DIGGER/NEW/downloader.ipynb:81: FutureWarning: The behavior of array concatenation with empty entries is deprecated. In a future version, this will no longer exclude empty items when determining the result dtype. To retain the old behavior, exclude the empty entries before the concat operation.\n",
      "  \"    print(\\\"\\\\nFor the time range:\\\", start_day, \\\" \\\", last_day)\\n\",\n"
     ]
    },
    {
     "name": "stdout",
     "output_type": "stream",
     "text": [
      "I am downloading: MST-U.TI .This is number: 490 out of: 521 . \n",
      "So far I have downloaded properly: 299 stocks\n"
     ]
    },
    {
     "name": "stderr",
     "output_type": "stream",
     "text": [
      "\n",
      "1 Failed download:\n",
      "['UNA.MI']: Exception('%ticker%: No timezone found, symbol may be delisted')\n"
     ]
    },
    {
     "name": "stdout",
     "output_type": "stream",
     "text": [
      "I am downloading: INGA.MI .This is number: 495 out of: 521 . \n",
      "So far I have downloaded properly: 304 stocks\n"
     ]
    },
    {
     "name": "stderr",
     "output_type": "stream",
     "text": [
      "/Users/matteozoli/Desktop/VESPER_script/GOLD DIGGER/NEW/downloader.ipynb:81: FutureWarning: The behavior of array concatenation with empty entries is deprecated. In a future version, this will no longer exclude empty items when determining the result dtype. To retain the old behavior, exclude the empty entries before the concat operation.\n",
      "  \"    print(\\\"\\\\nFor the time range:\\\", start_day, \\\" \\\", last_day)\\n\",\n",
      "\n",
      "1 Failed download:\n",
      "['INGA.TI']: Exception('%ticker%: No timezone found, symbol may be delisted')\n",
      "/Users/matteozoli/Desktop/VESPER_script/GOLD DIGGER/NEW/downloader.ipynb:81: FutureWarning: The behavior of array concatenation with empty entries is deprecated. In a future version, this will no longer exclude empty items when determining the result dtype. To retain the old behavior, exclude the empty entries before the concat operation.\n",
      "  \"    print(\\\"\\\\nFor the time range:\\\", start_day, \\\" \\\", last_day)\\n\",\n",
      "\n",
      "1 Failed download:\n",
      "['NVR-U.TI']: Exception('%ticker%: No timezone found, symbol may be delisted')\n",
      "/Users/matteozoli/Desktop/VESPER_script/GOLD DIGGER/NEW/downloader.ipynb:81: FutureWarning: The behavior of array concatenation with empty entries is deprecated. In a future version, this will no longer exclude empty items when determining the result dtype. To retain the old behavior, exclude the empty entries before the concat operation.\n",
      "  \"    print(\\\"\\\\nFor the time range:\\\", start_day, \\\" \\\", last_day)\\n\",\n"
     ]
    },
    {
     "name": "stdout",
     "output_type": "stream",
     "text": [
      "I am downloading: NOKIA.MI .This is number: 500 out of: 521 . \n",
      "So far I have downloaded properly: 306 stocks\n"
     ]
    },
    {
     "name": "stderr",
     "output_type": "stream",
     "text": [
      "\n",
      "1 Failed download:\n",
      "['PEUP-U.TI']: Exception('%ticker%: No timezone found, symbol may be delisted')\n",
      "/Users/matteozoli/Desktop/VESPER_script/GOLD DIGGER/NEW/downloader.ipynb:81: FutureWarning: The behavior of array concatenation with empty entries is deprecated. In a future version, this will no longer exclude empty items when determining the result dtype. To retain the old behavior, exclude the empty entries before the concat operation.\n",
      "  \"    print(\\\"\\\\nFor the time range:\\\", start_day, \\\" \\\", last_day)\\n\",\n"
     ]
    },
    {
     "name": "stdout",
     "output_type": "stream",
     "text": [
      "I am downloading: PG-U.TI .This is number: 505 out of: 521 . \n",
      "So far I have downloaded properly: 310 stocks\n"
     ]
    },
    {
     "name": "stderr",
     "output_type": "stream",
     "text": [
      "\n",
      "1 Failed download:\n",
      "['SYMC-U.TI']: Exception('%ticker%: No timezone found, symbol may be delisted')\n",
      "/Users/matteozoli/Desktop/VESPER_script/GOLD DIGGER/NEW/downloader.ipynb:81: FutureWarning: The behavior of array concatenation with empty entries is deprecated. In a future version, this will no longer exclude empty items when determining the result dtype. To retain the old behavior, exclude the empty entries before the concat operation.\n",
      "  \"    print(\\\"\\\\nFor the time range:\\\", start_day, \\\" \\\", last_day)\\n\",\n"
     ]
    },
    {
     "name": "stdout",
     "output_type": "stream",
     "text": [
      "I am downloading: TXN-U.TI .This is number: 510 out of: 521 . \n",
      "So far I have downloaded properly: 314 stocks\n",
      "I am downloading: ENGI.MI .This is number: 515 out of: 521 . \n",
      "So far I have downloaded properly: 319 stocks\n"
     ]
    },
    {
     "name": "stderr",
     "output_type": "stream",
     "text": [
      "\n",
      "1 Failed download:\n",
      "['S.TI']: Exception('%ticker%: No timezone found, symbol may be delisted')\n",
      "/Users/matteozoli/Desktop/VESPER_script/GOLD DIGGER/NEW/downloader.ipynb:81: FutureWarning: The behavior of array concatenation with empty entries is deprecated. In a future version, this will no longer exclude empty items when determining the result dtype. To retain the old behavior, exclude the empty entries before the concat operation.\n",
      "  \"    print(\\\"\\\\nFor the time range:\\\", start_day, \\\" \\\", last_day)\\n\",\n"
     ]
    },
    {
     "name": "stdout",
     "output_type": "stream",
     "text": [
      "I am downloading: S.TI .This is number: 520 out of: 521 . \n",
      "So far I have downloaded properly: 323 stocks\n",
      "We have a total of: 273 correctly and with multiple data entries\n",
      "Duration: 0:01:25.557805\n",
      "started pct calculation\n"
     ]
    },
    {
     "name": "stderr",
     "output_type": "stream",
     "text": [
      "/Users/matteozoli/Desktop/VESPER_script/GOLD DIGGER/NEW/analysis.ipynb:21: FutureWarning: Calling float on a single element Series is deprecated and will raise a TypeError in the future. Use float(ser.iloc[0]) instead\n",
      "  \"id\": \"cb48f74d-52d7-4e3c-b7cd-f7ab8d92c860\",\n",
      "/Users/matteozoli/Desktop/VESPER_script/GOLD DIGGER/NEW/analysis.ipynb:23: FutureWarning: Calling float on a single element Series is deprecated and will raise a TypeError in the future. Use float(ser.iloc[0]) instead\n",
      "  \"outputs\": [],\n",
      "/Users/matteozoli/Desktop/VESPER_script/GOLD DIGGER/NEW/analysis.ipynb:28: FutureWarning: The behavior of DataFrame concatenation with empty or all-NA entries is deprecated. In a future version, this will no longer exclude empty or all-NA columns when determining the result dtypes. To retain the old behavior, exclude the relevant entries before the concat operation.\n",
      "  \"    stock = pd.read_csv('INPUT/stocks_downloaded.csv')\\n\",\n"
     ]
    },
    {
     "name": "stdout",
     "output_type": "stream",
     "text": [
      "exporting analysis\n",
      "analysis is ready!\n"
     ]
    }
   ],
   "source": [
    "##if it does not work python3 -m pip install ipykernel -U --force-reinstall\n",
    "#from gui import *\n",
    "import tkinter as tk\n",
    "from tkinter import ttk\n",
    "import numpy as np\n",
    "import yfinance as yf\n",
    "import pandas as pd\n",
    "from ipynb.fs.full.analysis import *\n",
    "from ipynb.fs.full.downloader import *\n",
    "from ipynb.fs.full.gui import *\n",
    "import numpy as np\n",
    "import sys \n",
    "from tkinter import * \n",
    "\n",
    "\n",
    "def main():\n",
    "    ##facciamo partire la gui\n",
    "    \n",
    "    country, category, start_day, last_day,number_of_stocks_to_download, stock_selected, ben, benchmarks_dictionary = run()\n",
    "    \n",
    "    df_stocks_total, ben = downloader(country, category, start_day, last_day, number_of_stocks_to_download, stock_selected, ben, benchmarks_dictionary)\n",
    "    \n",
    "    df_pct = percentage_calculation(df_stocks_total, start_day, last_day, ben)\n",
    "\n",
    "    print(\"exporting analysis\")\n",
    "    df_pct.to_csv('OUTPUT/analysis_pct.csv')\n",
    "    print(\"analysis is ready!\")\n",
    "    return df_pct\n",
    "\n",
    "if __name__ == \"__main__\":\n",
    "    df_pct = main()\n"
   ]
  },
  {
   "cell_type": "code",
   "execution_count": null,
   "id": "d7737356-b5e3-4e9a-9666-29a26ce62a83",
   "metadata": {},
   "outputs": [],
   "source": []
  }
 ],
 "metadata": {
  "kernelspec": {
   "display_name": "Python 3 (ipykernel)",
   "language": "python",
   "name": "python3"
  },
  "language_info": {
   "codemirror_mode": {
    "name": "ipython",
    "version": 3
   },
   "file_extension": ".py",
   "mimetype": "text/x-python",
   "name": "python",
   "nbconvert_exporter": "python",
   "pygments_lexer": "ipython3",
   "version": "3.11.5"
  },
  "vscode": {
   "interpreter": {
    "hash": "31f2aee4e71d21fbe5cf8b01ff0e069b9275f58929596ceb00d14d90e3e16cd6"
   }
  }
 },
 "nbformat": 4,
 "nbformat_minor": 5
}
