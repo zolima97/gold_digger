{
 "cells": [
  {
   "cell_type": "code",
   "execution_count": 11,
   "id": "128a05c3",
   "metadata": {},
   "outputs": [],
   "source": [
    "# import modules\n",
    "from datetime import datetime\n",
    "import pandas as pd\n",
    "import yfinance as yf"
   ]
  },
  {
   "cell_type": "markdown",
   "id": "100b9d81",
   "metadata": {},
   "source": [
    "IMPORTARE DATA FROM API QUANDL\n",
    "\n",
    "url = https://data.nasdaq.com/account/profile\n",
    "api key = 'MY8qCRZ5-R6YNMqoz_kK'"
   ]
  },
  {
   "cell_type": "markdown",
   "id": "3c7cede0",
   "metadata": {},
   "source": [
    "PRE-PROCESSING"
   ]
  },
  {
   "cell_type": "markdown",
   "id": "26827fbf",
   "metadata": {},
   "source": [
    "WE START DOWNLOADING"
   ]
  },
  {
   "cell_type": "code",
   "execution_count": 1,
   "id": "088ae9bf",
   "metadata": {},
   "outputs": [],
   "source": [
    "#TO DO aggiungere il benchmark, e list of letters\n",
    "\n",
    "def downloader(country, category, start_day, last_day, number_of_stocks_to_download, stock_selected, ben, benchmarks_dictionary):\n",
    "    df_tickers = pd.read_excel(\"INPUT/yticker.xlsx\")\n",
    "    \n",
    "    df_tickers = df_tickers.rename(columns = {\"Unnamed: 1\": \"Name\", \"Unnamed: 3\": \"Industry\", \"Unnamed: 4\":\"Country\"})\n",
    "    \n",
    "    df_tickers = df_tickers.iloc[3:][:]\n",
    "    \n",
    "    if country != '':\n",
    "        df_tickers = df_tickers[df_tickers[\"Country\"] == country]\n",
    "    if category != '':\n",
    "        df_tickers = df_tickers[df_tickers[\"Industry\"] == category]\n",
    "    if stock_selected != '':\n",
    "        df_tickers = df_tickers[df_tickers[\"Yahoo Stock Tickers\"] == stock_selected]\n",
    "        print(\"filtrato\")\n",
    "        print(df_tickers.head(2))\n",
    "\n",
    "    lista_tickers = df_tickers.iloc[:][[\"Yahoo Stock Tickers\"]]\n",
    "\n",
    "    \n",
    "    start_time = datetime.now()\n",
    "    \n",
    "    df_stocks_total = pd.DataFrame()\n",
    "    \n",
    "    counter_lista = 0\n",
    "    counter_lista_corretti= 0\n",
    "    \n",
    "    lista_tickers_filtrato = lista_tickers[:][:number_of_stocks_to_download]\n",
    "    \n",
    "    print(\"I am going to download:\", len(lista_tickers_filtrato), \"stocks.\") \n",
    "    print(\"\\nFor the time range:\", start_day, \" \", last_day)\n",
    "    \n",
    "    \n",
    "    key_list = list(benchmarks_dictionary.keys())\n",
    "    val_list = list(benchmarks_dictionary.values())\n",
    "    position = val_list.index(ben)\n",
    "    ben_word = key_list[position]\n",
    "    \n",
    "    \n",
    "    print(\"\\nBenchmark is:\", ben_word)\n",
    "    if country != '': \n",
    "        print(\"\\nCountry selected:\", country)\n",
    "    if category != '': \n",
    "        print(\"\\nCategory selected:\", category)\n",
    "    if stock_selected != '': \n",
    "        print(\"\\nStock selected:\", stock_selected)\n",
    "    \n",
    "        \n",
    "    for index, row in lista_tickers_filtrato.iterrows():\n",
    "        ticker= row['Yahoo Stock Tickers'] \n",
    "        counter_lista +=1\n",
    "    # get the data in dataframe format\n",
    "        stock = yf.download(ticker, start = start_day, end = last_day, progress=False)\n",
    "    #add a column with the ticker name\n",
    "        stock[\"ticker\"] = ticker\n",
    "    #filtering only needed columns\n",
    "        stock = stock[[\"ticker\", \"Close\", \"Volume\"]]\n",
    "        df_stocks_total = pd.concat([df_stocks_total, stock])        \n",
    "        if counter_lista%5== 0: \n",
    "        \n",
    "            print(\"I am downloading:\", ticker, \".This is number:\", counter_lista,\"out of:\", len(lista_tickers_filtrato),\".\",\n",
    "            \"\\nSo far I have downloaded properly:\", df_stocks_total[\"ticker\"].nunique(), \"stocks\")\n",
    "     \n",
    "    benchmark_data = yf.download(ben, start = start_day, end = last_day, progress=False)\n",
    "    benchmark_data[\"ticker\"] = ben\n",
    "    benchmark_data = benchmark_data[[\"ticker\", \"Close\", \"Volume\"]]\n",
    "    df_stocks_total = pd.concat([df_stocks_total, benchmark_data])    \n",
    "    \n",
    "    df_stocks_total_groupby = df_stocks_total.groupby(\"ticker\").count()\n",
    "    \n",
    "    print(\"We have a total of:\", len(df_stocks_total_groupby[df_stocks_total_groupby[\"Close\"]> 1]), \"correctly and with multiple data entries\")  \n",
    "    \n",
    "    end_time = datetime.now()  \n",
    "    print('Duration: {}'.format(end_time - start_time))\n",
    "    \n",
    "    df_stocks_total.to_csv('INPUT/stocks_downloaded.csv')\n",
    "\n",
    "    \n",
    "    return df_stocks_total, ben\n"
   ]
  }
 ],
 "metadata": {
  "kernelspec": {
   "display_name": "Python 3 (ipykernel)",
   "language": "python",
   "name": "python3"
  },
  "language_info": {
   "codemirror_mode": {
    "name": "ipython",
    "version": 3
   },
   "file_extension": ".py",
   "mimetype": "text/x-python",
   "name": "python",
   "nbconvert_exporter": "python",
   "pygments_lexer": "ipython3",
   "version": "3.11.5"
  },
  "vscode": {
   "interpreter": {
    "hash": "b0fb3b4d198db20537624ce2c3b92e457604832839060357f14bea53dad748a5"
   }
  }
 },
 "nbformat": 4,
 "nbformat_minor": 5
}
